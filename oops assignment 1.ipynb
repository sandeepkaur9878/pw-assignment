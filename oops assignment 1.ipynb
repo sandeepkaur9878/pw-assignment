{
 "cells": [
  {
   "cell_type": "markdown",
   "id": "fe0a18d5-f234-4d79-92e7-5ea41771bcd5",
   "metadata": {},
   "source": [
    "### Q1. Explain Class and Object with respect to Object-Oriented Programming. Give a suitable example."
   ]
  },
  {
   "cell_type": "code",
   "execution_count": 1,
   "id": "2360f34c-2646-43ea-b510-ffc89a20919d",
   "metadata": {},
   "outputs": [],
   "source": [
    "## class - class is a blueprint or template that defines the structure and behavior of objects. A class defines the properties and methods that objects of that class can have.\n",
    "\n",
    "## object - An abject is an instance of a class. Objects have their own unique state and behaviour, but they follow the structure defined by the class they belong too."
   ]
  },
  {
   "cell_type": "code",
   "execution_count": 12,
   "id": "2f387255-4b76-4a0d-a1b6-0b0517dc3b19",
   "metadata": {},
   "outputs": [],
   "source": [
    "# class definition\n",
    "class car:\n",
    "    def __init__(self, make, model, year, speed):\n",
    "        self.make = make\n",
    "        self.model = model\n",
    "        self.year = year\n",
    "        self.speed = 0\n",
    "        \n",
    "    def set_speed(self,speed):\n",
    "        self.speed = 0 if speed < 0 else speed\n",
    "        \n",
    "    def get_speed(self):\n",
    "        return self.speed  \n",
    "    \n",
    "    def display_info(self):\n",
    "        print(f\"make: {self.make}\")\n",
    "        print(f\"model: {self.model}\")\n",
    "        print(f\"year: {self.year}\")\n",
    "        print(f\"speed: {self.speed}\")"
   ]
  },
  {
   "cell_type": "code",
   "execution_count": 13,
   "id": "98358bb4-6b0f-4e94-ba86-f30fe98aa7f0",
   "metadata": {},
   "outputs": [],
   "source": [
    "# object instantiation\n",
    "\n",
    "car1= car(\"toyota\", \"camry\", 2020)\n",
    "car2 = car(\"ford\", \"mustang\", 2022)"
   ]
  },
  {
   "cell_type": "code",
   "execution_count": 14,
   "id": "844716d2-ffee-4161-9c62-55684273b147",
   "metadata": {},
   "outputs": [
    {
     "name": "stdout",
     "output_type": "stream",
     "text": [
      "make: toyota\n",
      "model: camry\n",
      "year: 2020\n",
      "speed: 0\n"
     ]
    }
   ],
   "source": [
    "# accesing object properties and methods\n",
    "\n",
    "car1.display_info()"
   ]
  },
  {
   "cell_type": "code",
   "execution_count": 15,
   "id": "2dceb47e-9194-4fd0-8ca0-789e671a1af0",
   "metadata": {},
   "outputs": [
    {
     "name": "stdout",
     "output_type": "stream",
     "text": [
      "make: ford\n",
      "model: mustang\n",
      "year: 2022\n",
      "speed: 0\n"
     ]
    }
   ],
   "source": [
    "car2.display_info()"
   ]
  },
  {
   "cell_type": "markdown",
   "id": "2aa9b059-30e1-44ea-b8f1-e02e656e9a92",
   "metadata": {},
   "source": [
    "### Q2. Name the four pillars of OOPs."
   ]
  },
  {
   "cell_type": "markdown",
   "id": "fe642b1d-1ccf-4e70-8cb4-7fff15f9c4ca",
   "metadata": {},
   "source": [
    "### Ans. The four pillars of object-oriented programming(OOP) are :"
   ]
  },
  {
   "cell_type": "markdown",
   "id": "a873fe47-8c59-4be8-830b-c1c3f6fd55a6",
   "metadata": {},
   "source": [
    "### 1. Encapsulation :"
   ]
  },
  {
   "cell_type": "code",
   "execution_count": 17,
   "id": "360a7981-1d8b-4b79-b6d2-5f22e9a36800",
   "metadata": {},
   "outputs": [],
   "source": [
    "# Encapsulation refers to the building of data and methods into a single unit called an object. It involves hididng the internal details of an object and providing a publc interface to interact with it "
   ]
  },
  {
   "cell_type": "markdown",
   "id": "29b2874f-2b54-4220-a706-5f5218129bc3",
   "metadata": {},
   "source": [
    "### 2. Inheritance"
   ]
  },
  {
   "cell_type": "code",
   "execution_count": 18,
   "id": "4ca3dd83-ecf2-48aa-b909-3efff77d2704",
   "metadata": {},
   "outputs": [],
   "source": [
    "# Inheritance is a mechanism in which one class inherits the properties and behaviours of another class. inheritance enables thr derived class to inherit and extend the features of the base class."
   ]
  },
  {
   "cell_type": "markdown",
   "id": "f6ae0833-37cd-4e25-9531-9e71ce338c4b",
   "metadata": {},
   "source": [
    "### 3. Polymorphism :"
   ]
  },
  {
   "cell_type": "code",
   "execution_count": 19,
   "id": "4a0c4b2e-bb97-45ff-a6ee-746c40a26f77",
   "metadata": {},
   "outputs": [],
   "source": [
    "### Polymorphism means the ability of object of different classes to respond to the same message or method invocation in different ways. Polymorphism helps in achieving code flexibility, extensibility, and modularity.  "
   ]
  },
  {
   "cell_type": "markdown",
   "id": "5364148d-a8c1-4da5-9d33-2afc7314c738",
   "metadata": {},
   "source": [
    "### 4. Abstraction :"
   ]
  },
  {
   "cell_type": "code",
   "execution_count": 20,
   "id": "778a9b12-1270-4f4d-bb3f-d7c9ac880dbd",
   "metadata": {},
   "outputs": [],
   "source": [
    "# Abstraction involves representing the essential features of an object without including the background details or complexities. It focuses on defining a simplified view of an object or system that captures its main characteristic and functionality."
   ]
  },
  {
   "cell_type": "markdown",
   "id": "a97b76e9-2e11-4d6a-b2a6-17ddbd63de74",
   "metadata": {},
   "source": [
    "### Q3. Explain why the __init__() function is used. Give a suitable example."
   ]
  },
  {
   "cell_type": "code",
   "execution_count": 1,
   "id": "62dda5a4-51d0-4c4b-86bb-a9282d8582c3",
   "metadata": {},
   "outputs": [],
   "source": [
    "# 'init()' function is essential  for initializing the state of an object or preparing the program's initial setup, ensuring that everything is correctly configured before further operations are peformed. "
   ]
  },
  {
   "cell_type": "code",
   "execution_count": 6,
   "id": "9ce1c509-f781-4d65-a2fc-5da05c5a6609",
   "metadata": {},
   "outputs": [],
   "source": [
    "# A class with init method\n",
    "\n",
    "class person:\n",
    "    \n",
    "    def __init__(self, name):\n",
    "        self.name = name\n",
    "        \n",
    "    def say_hello(self):\n",
    "        print(\"Hello, my name is\", self.name)"
   ]
  },
  {
   "cell_type": "code",
   "execution_count": 7,
   "id": "017c21a1-518f-4d36-8860-577e4758095f",
   "metadata": {},
   "outputs": [
    {
     "name": "stdout",
     "output_type": "stream",
     "text": [
      "Hello, my name is sandeep kaur\n"
     ]
    }
   ],
   "source": [
    "p = person('sandeep kaur')\n",
    "p.say_hello()"
   ]
  },
  {
   "cell_type": "markdown",
   "id": "17e7d3a3-711b-42d1-b004-23a24c109be5",
   "metadata": {},
   "source": [
    "### Q4. Why self is used in OOPs?"
   ]
  },
  {
   "cell_type": "code",
   "execution_count": 8,
   "id": "61f41d9f-fabc-40ce-b701-d31d0f4412fa",
   "metadata": {},
   "outputs": [],
   "source": [
    "# Self represents the instance of the class. By using the \"self\" we can access the attributes and methods of the class in python. It binds the attributes with the given arguements.\n",
    "# Self must be provided as a first parameter to the instance method and constructor. If you don't provide it, it will cause an error."
   ]
  },
  {
   "cell_type": "code",
   "execution_count": 10,
   "id": "e0e88bd4-bed1-4bd5-abc5-794b98aff972",
   "metadata": {},
   "outputs": [],
   "source": [
    "class watch:\n",
    "    def __init__(self, brand , colour):\n",
    "        self.brand = brand\n",
    "        self.colour = colour\n",
    "        \n",
    "    def display_info(self):\n",
    "        print(\"brand:\", self.brand)\n",
    "        print(\"colour\", self.colour)\n",
    "        "
   ]
  },
  {
   "cell_type": "code",
   "execution_count": 11,
   "id": "79c22a3a-bd24-4b38-9dc4-358babdc9214",
   "metadata": {},
   "outputs": [],
   "source": [
    "watch1 = watch(\"titan\", \"silver\")\n",
    "watch2 = watch(\"naxa\", \"golden\")"
   ]
  },
  {
   "cell_type": "code",
   "execution_count": 13,
   "id": "0e42d729-93f8-46f6-8b12-f656751255e5",
   "metadata": {},
   "outputs": [
    {
     "name": "stdout",
     "output_type": "stream",
     "text": [
      "brand: titan\n",
      "colour silver\n"
     ]
    }
   ],
   "source": [
    "watch1.display_info()"
   ]
  },
  {
   "cell_type": "code",
   "execution_count": 14,
   "id": "152790b3-0d05-454e-8dac-f21f4cc30057",
   "metadata": {},
   "outputs": [
    {
     "name": "stdout",
     "output_type": "stream",
     "text": [
      "brand: naxa\n",
      "colour golden\n"
     ]
    }
   ],
   "source": [
    "watch2.display_info()"
   ]
  },
  {
   "cell_type": "markdown",
   "id": "b5168e08-5efa-4a87-8a70-dd32fc319b19",
   "metadata": {},
   "source": [
    "### Q5. What is inheritance? Give an example for each type of inheritance."
   ]
  },
  {
   "cell_type": "markdown",
   "id": "f682917c-7730-4ad9-9e24-a11a452aa356",
   "metadata": {},
   "source": [
    "### Inheritance"
   ]
  },
  {
   "cell_type": "code",
   "execution_count": null,
   "id": "c0db4fac-117b-460c-9653-13b3d0cc492e",
   "metadata": {},
   "outputs": [],
   "source": [
    "# Inheritance is a fundamental concept in OOP where a class can inherit the properties and behaviors of another class. The class that inherits is called the \"subclass\" or \"derived class\", and the class being inherited from is called the \"superclass\" or \"base class\"."
   ]
  },
  {
   "cell_type": "markdown",
   "id": "b17fd338-ddce-4029-b234-5d8b6a312ab3",
   "metadata": {},
   "source": [
    "### There are several types of inheritance:"
   ]
  },
  {
   "cell_type": "markdown",
   "id": "3a1c27eb-a7d1-4306-aeba-cd0512955c84",
   "metadata": {},
   "source": [
    "### 1. single inheritance :"
   ]
  },
  {
   "cell_type": "code",
   "execution_count": 16,
   "id": "49736e83-a6db-40de-8c72-08d9f857bc2f",
   "metadata": {},
   "outputs": [],
   "source": [
    "# In single inheritance , a subclass inherits properties and behaviors from a single superclass."
   ]
  },
  {
   "cell_type": "code",
   "execution_count": 17,
   "id": "2f0cbf0e-4c16-4527-9a53-7d6b13ac9e29",
   "metadata": {},
   "outputs": [],
   "source": [
    "class test :\n",
    "    \n",
    "    def shopping_mall1(self):\n",
    "        return \"this is my fvrt shop\""
   ]
  },
  {
   "cell_type": "code",
   "execution_count": 18,
   "id": "74dabeb3-bdc2-4dd5-8bb2-c22cad04a017",
   "metadata": {},
   "outputs": [],
   "source": [
    "class shopping_center(test):\n",
    "    pass"
   ]
  },
  {
   "cell_type": "code",
   "execution_count": 19,
   "id": "659d5aaf-b3bc-4811-8195-984f79f20fb8",
   "metadata": {},
   "outputs": [
    {
     "data": {
      "text/plain": [
       "'this is my fvrt shop'"
      ]
     },
     "execution_count": 19,
     "metadata": {},
     "output_type": "execute_result"
    }
   ],
   "source": [
    "shopping_center_obj = shopping_center()\n",
    "shopping_center_obj.shopping_mall1()"
   ]
  },
  {
   "cell_type": "markdown",
   "id": "a557c284-c0eb-4c5c-9020-d00e4c4b3ef1",
   "metadata": {},
   "source": [
    "### 2.Multiple Inheritance"
   ]
  },
  {
   "cell_type": "code",
   "execution_count": 20,
   "id": "2fb85a8f-3e33-46ab-891e-24dd2a667a8e",
   "metadata": {},
   "outputs": [],
   "source": [
    "# MUltiple inheritance allows a subclass can access properties and behaviours from all the superclasses."
   ]
  },
  {
   "cell_type": "code",
   "execution_count": 21,
   "id": "884c0942-c264-4894-8444-1e5170c2b0f4",
   "metadata": {},
   "outputs": [],
   "source": [
    "class science:\n",
    "    \n",
    "    def science_lab(self):\n",
    "        return\"this lab is provided by aman sir\"\n",
    "\n",
    "class math :\n",
    "    \n",
    "    def math_lab(self):\n",
    "        return\"this lab is provided by deep mam\"\n",
    "    \n",
    "class pcm(science, math):\n",
    "    pass    "
   ]
  },
  {
   "cell_type": "code",
   "execution_count": 22,
   "id": "8f6f07cf-59ef-4ec4-978f-9b8693af8eb1",
   "metadata": {},
   "outputs": [],
   "source": [
    "obj_pcm = pcm()"
   ]
  },
  {
   "cell_type": "code",
   "execution_count": 24,
   "id": "cb1c52fe-3727-4964-a0bf-2b8e33c732e8",
   "metadata": {},
   "outputs": [
    {
     "data": {
      "text/plain": [
       "'this lab is provided by deep mam'"
      ]
     },
     "execution_count": 24,
     "metadata": {},
     "output_type": "execute_result"
    }
   ],
   "source": [
    "obj_pcm.math_lab()"
   ]
  },
  {
   "cell_type": "code",
   "execution_count": 25,
   "id": "7ea9b625-4e2f-485a-9ebc-4e07ee976f74",
   "metadata": {},
   "outputs": [
    {
     "data": {
      "text/plain": [
       "'this lab is provided by aman sir'"
      ]
     },
     "execution_count": 25,
     "metadata": {},
     "output_type": "execute_result"
    }
   ],
   "source": [
    "obj_pcm.science_lab()"
   ]
  },
  {
   "cell_type": "markdown",
   "id": "2c54626e-7b9a-45ad-bbe3-664c7ebf87d1",
   "metadata": {},
   "source": [
    "### 3. Multilevel Inheritance"
   ]
  },
  {
   "cell_type": "code",
   "execution_count": 26,
   "id": "c21044ff-8653-4a7c-a873-92a918369e88",
   "metadata": {},
   "outputs": [],
   "source": [
    "# Multilevel Inheritance involves inheriting properties and behaviours from a superclass, and then a subclass further inherits from that derived class."
   ]
  },
  {
   "cell_type": "code",
   "execution_count": 27,
   "id": "3b2f2ac6-ab16-4ba1-9f18-28ac217b79f6",
   "metadata": {},
   "outputs": [],
   "source": [
    "class actor :\n",
    "    \n",
    "    def test_ator(self):\n",
    "        return \"this my fvrt hero\"\n",
    "    \n",
    "class actress(actor):\n",
    "    def test_actress(self):\n",
    "        return \"this is my fvrt actress\"\n",
    "    \n",
    "class cinema(actress):\n",
    "    pass    "
   ]
  },
  {
   "cell_type": "code",
   "execution_count": 28,
   "id": "e78ca9ae-18a7-4689-9c5a-40492113f619",
   "metadata": {},
   "outputs": [],
   "source": [
    "obj_cinema = cinema()"
   ]
  },
  {
   "cell_type": "code",
   "execution_count": 29,
   "id": "85435001-17c0-4567-acb3-841a1a6ffb05",
   "metadata": {},
   "outputs": [
    {
     "data": {
      "text/plain": [
       "'this is my fvrt actress'"
      ]
     },
     "execution_count": 29,
     "metadata": {},
     "output_type": "execute_result"
    }
   ],
   "source": [
    "obj_cinema.test_actress()"
   ]
  },
  {
   "cell_type": "code",
   "execution_count": 30,
   "id": "26f9ac1f-22bc-4212-8c7e-f21bf4cf7594",
   "metadata": {},
   "outputs": [
    {
     "data": {
      "text/plain": [
       "'this my fvrt hero'"
      ]
     },
     "execution_count": 30,
     "metadata": {},
     "output_type": "execute_result"
    }
   ],
   "source": [
    "obj_cinema.test_ator()"
   ]
  },
  {
   "cell_type": "markdown",
   "id": "0eb1c114-bb9c-453e-8d0e-265875ad84a6",
   "metadata": {},
   "source": [
    "### 4. Hybrid Inheritance"
   ]
  },
  {
   "cell_type": "code",
   "execution_count": 1,
   "id": "a4d90db5-fcc2-462d-9abe-73b0e1be84eb",
   "metadata": {},
   "outputs": [],
   "source": [
    "# Hybrid inheritance is a combination of multiple types of inheritance, such as combining single and multiple inheritances."
   ]
  },
  {
   "cell_type": "code",
   "execution_count": 2,
   "id": "732d3969-fc51-440d-af84-8c2129e0625e",
   "metadata": {},
   "outputs": [],
   "source": [
    "class A:\n",
    "    def method(self):\n",
    "        return \"method of class A\"\n",
    "    \n",
    "class B(A):\n",
    "    def method(self):\n",
    "        return \"method of class B\"\n",
    "    \n",
    "class C(A):\n",
    "    def method(self):\n",
    "        return \"method of class C\"\n",
    "    \n",
    "class D(B,C):\n",
    "    pass\n",
    "\n",
    "d = D()\n",
    "    "
   ]
  },
  {
   "cell_type": "code",
   "execution_count": 3,
   "id": "4eb5abce-1247-4eb8-b32e-024c4e9841c5",
   "metadata": {},
   "outputs": [
    {
     "data": {
      "text/plain": [
       "'method of class B'"
      ]
     },
     "execution_count": 3,
     "metadata": {},
     "output_type": "execute_result"
    }
   ],
   "source": [
    "d.method()"
   ]
  },
  {
   "cell_type": "code",
   "execution_count": null,
   "id": "ddc870c3-1fdd-4090-99a7-8ca29683f1bb",
   "metadata": {},
   "outputs": [],
   "source": []
  }
 ],
 "metadata": {
  "kernelspec": {
   "display_name": "Python 3 (ipykernel)",
   "language": "python",
   "name": "python3"
  },
  "language_info": {
   "codemirror_mode": {
    "name": "ipython",
    "version": 3
   },
   "file_extension": ".py",
   "mimetype": "text/x-python",
   "name": "python",
   "nbconvert_exporter": "python",
   "pygments_lexer": "ipython3",
   "version": "3.10.8"
  }
 },
 "nbformat": 4,
 "nbformat_minor": 5
}
