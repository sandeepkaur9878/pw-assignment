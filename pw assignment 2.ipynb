{
 "cells": [
  {
   "cell_type": "markdown",
   "id": "e17fcad1-b034-48b9-b6db-5b773a259527",
   "metadata": {},
   "source": [
    "Q1. How do you comment code in Python? What are the different types of comments?"
   ]
  },
  {
   "cell_type": "code",
   "execution_count": 3,
   "id": "5d37ae68-b999-4b25-8be2-ead5ae70767c",
   "metadata": {},
   "outputs": [
    {
     "data": {
      "text/plain": [
       "'this is also a multi line comment'"
      ]
     },
     "execution_count": 3,
     "metadata": {},
     "output_type": "execute_result"
    }
   ],
   "source": [
    "# this is a single line comment\n",
    "\n",
    "'''this is a multi line comment'''\n",
    "\n",
    "\"\"\"this is also a multi line comment\"\"\""
   ]
  },
  {
   "cell_type": "markdown",
   "id": "0669df29-dd15-4ecd-888a-4a25561d8b24",
   "metadata": {},
   "source": [
    "Q2. What are variables in Python? How do you declare and assign values to variables?"
   ]
  },
  {
   "cell_type": "code",
   "execution_count": 4,
   "id": "007bdc59-5950-4c84-beae-ca8646deecec",
   "metadata": {},
   "outputs": [
    {
     "name": "stdout",
     "output_type": "stream",
     "text": [
      "sandeep kaur\n",
      "25\n"
     ]
    }
   ],
   "source": [
    "## variable is a symbolic name that is a reference or pointer to an object. variables are used to store and manipulated data.\n",
    "\n",
    "## variable declaration and assigning\n",
    "\n",
    "name = \"sandeep kaur\"\n",
    "age = 25\n",
    "print(name)\n",
    "print(age)"
   ]
  },
  {
   "cell_type": "markdown",
   "id": "f1562182-3b39-4217-b0f9-99933f9606b6",
   "metadata": {},
   "source": [
    "Q3. How do you convert one data type to another in Python?"
   ]
  },
  {
   "cell_type": "code",
   "execution_count": 1,
   "id": "eaf89f85-1444-4238-8e6f-2fb81abe0cf5",
   "metadata": {},
   "outputs": [
    {
     "name": "stdout",
     "output_type": "stream",
     "text": [
      "3.14\n"
     ]
    }
   ],
   "source": [
    "num_str = \"3.14\"\n",
    "num_float = float(num_str)\n",
    "print(num_float)"
   ]
  },
  {
   "cell_type": "markdown",
   "id": "4d4ef892-5d80-4ca0-98bd-59a12f5aad40",
   "metadata": {},
   "source": [
    "Q4. How do you write and execute a Python script from the command line?"
   ]
  },
  {
   "cell_type": "code",
   "execution_count": null,
   "id": "cff13bd6-2fa7-40c9-9048-4adb80c7274d",
   "metadata": {},
   "outputs": [],
   "source": [
    "# we can follow this steps to execute the python script:\n",
    "\n",
    "1. open the texteditor for example: visual studio code\n",
    "2. write a code into it for example : print(\"hello pwskills\")\n",
    "3. save the file with .py extension into your local pc for example : hello.py\n",
    "4. open a 'terminal' into the mac or window open a 'command prompt'\n",
    "5. nevigate the file it with the help of cd command for example you save it on your desktop : cd desktop\n",
    "6. once you nevigate it execute it with the help of python3 command for example : python3 hello.py"
   ]
  },
  {
   "cell_type": "markdown",
   "id": "9e980b73-3795-4d8b-88b1-8e23232f9c90",
   "metadata": {},
   "source": [
    "Q5. Given a list my_list = [1, 2, 3, 4, 5], write the code to slice the list and obtain the sub-list [2, 3]."
   ]
  },
  {
   "cell_type": "code",
   "execution_count": 2,
   "id": "be831fe5-564b-4740-ba41-c4e0e7be6266",
   "metadata": {},
   "outputs": [
    {
     "name": "stdout",
     "output_type": "stream",
     "text": [
      "[2, 3]\n"
     ]
    }
   ],
   "source": [
    "my_list = [1,2,3,4,5]\n",
    "sub_list = my_list[1:3]\n",
    "print(sub_list)"
   ]
  },
  {
   "cell_type": "markdown",
   "id": "faba9a90-43fc-4afc-bd88-6f021ab660c5",
   "metadata": {},
   "source": [
    "Q6. What is a complex number in mathematics, and how is it represented in Python?"
   ]
  },
  {
   "cell_type": "code",
   "execution_count": 4,
   "id": "6936391e-67b9-4949-b777-ea5f9d7c288b",
   "metadata": {},
   "outputs": [],
   "source": [
    "## A complex numbers in mathematics is a number that can be expressed in the form 'a + bi' , where 'a' and 'b' are real numbers , and 'i' is the imaginary unit\n",
    "\n",
    "## In python, complex numbers are supported as a in-built data type. And it is represented by\n",
    "'a+bj'\n",
    "\n",
    "a = 4+5j"
   ]
  },
  {
   "cell_type": "code",
   "execution_count": 6,
   "id": "ffbf65ff-e2bc-46f7-9760-7d1a6e259e25",
   "metadata": {},
   "outputs": [
    {
     "data": {
      "text/plain": [
       "complex"
      ]
     },
     "execution_count": 6,
     "metadata": {},
     "output_type": "execute_result"
    }
   ],
   "source": [
    "type(a)"
   ]
  },
  {
   "cell_type": "code",
   "execution_count": 7,
   "id": "50940142-bcad-4217-b31f-e1aafaada1ba",
   "metadata": {},
   "outputs": [
    {
     "data": {
      "text/plain": [
       "4.0"
      ]
     },
     "execution_count": 7,
     "metadata": {},
     "output_type": "execute_result"
    }
   ],
   "source": [
    "a.real"
   ]
  },
  {
   "cell_type": "code",
   "execution_count": 8,
   "id": "fd6d48b6-98b7-474a-bd83-be45e735fa32",
   "metadata": {},
   "outputs": [
    {
     "data": {
      "text/plain": [
       "5.0"
      ]
     },
     "execution_count": 8,
     "metadata": {},
     "output_type": "execute_result"
    }
   ],
   "source": [
    "a.imag"
   ]
  },
  {
   "cell_type": "markdown",
   "id": "9a993a91-8835-4b28-8a36-382c1a48a94b",
   "metadata": {},
   "source": [
    "Q7. What is the correct way to declare a variable named age and assign the value 25 to it?"
   ]
  },
  {
   "cell_type": "code",
   "execution_count": 9,
   "id": "c8ee7d89-eadf-4e6a-982c-f4bf682f36ca",
   "metadata": {},
   "outputs": [],
   "source": [
    "age = 25"
   ]
  },
  {
   "cell_type": "code",
   "execution_count": 10,
   "id": "31368075-cba4-4144-8a85-b9c280590ca1",
   "metadata": {},
   "outputs": [
    {
     "name": "stdout",
     "output_type": "stream",
     "text": [
      "25\n"
     ]
    }
   ],
   "source": [
    "print(age)"
   ]
  },
  {
   "cell_type": "markdown",
   "id": "6c86dc4e-c1d3-4aa6-8b9c-2326d2ef9965",
   "metadata": {},
   "source": [
    "Q8. Declare a variable named price and assign the value 9.99 to it. What data type does this variable\n",
    "belong to?"
   ]
  },
  {
   "cell_type": "code",
   "execution_count": 11,
   "id": "417a28bc-14a9-4577-81e6-905c47398d2a",
   "metadata": {},
   "outputs": [
    {
     "name": "stdout",
     "output_type": "stream",
     "text": [
      "<class 'float'>\n"
     ]
    }
   ],
   "source": [
    "price = 9.99\n",
    "print(type(price))"
   ]
  },
  {
   "cell_type": "markdown",
   "id": "47dd4e87-8c67-4926-b425-be74010170cc",
   "metadata": {},
   "source": [
    "Q9. Create a variable named name and assign your full name to it as a string. How would you print the\n",
    "value of this variable?"
   ]
  },
  {
   "cell_type": "code",
   "execution_count": 13,
   "id": "958bfc43-1b75-41a9-a412-1c01953dd53e",
   "metadata": {},
   "outputs": [
    {
     "name": "stdout",
     "output_type": "stream",
     "text": [
      "Sandeep kaur\n"
     ]
    }
   ],
   "source": [
    "name = \"Sandeep kaur\"\n",
    "print(name)"
   ]
  },
  {
   "cell_type": "markdown",
   "id": "5551e4d5-8d8d-46f4-bb4f-3e60973d8b34",
   "metadata": {},
   "source": [
    "Q10. Given the string \"Hello, World!\", extract the substring \"World\"."
   ]
  },
  {
   "cell_type": "code",
   "execution_count": 4,
   "id": "25ad186d-e871-4e27-bc91-8ba79fbd6dc1",
   "metadata": {},
   "outputs": [
    {
     "name": "stdout",
     "output_type": "stream",
     "text": [
      "World\n"
     ]
    }
   ],
   "source": [
    "str = \"Hello, World!\"\n",
    "sub_str = str[-6:-1]\n",
    "print(sub_str)"
   ]
  },
  {
   "cell_type": "markdown",
   "id": "fcaf4a46-eba6-4870-8415-ad6d1b1914e2",
   "metadata": {},
   "source": [
    "Q11. Create a variable named \"is_student\" and assign it a boolean value indicating whether you are\n",
    "currently a student or not."
   ]
  },
  {
   "cell_type": "code",
   "execution_count": 5,
   "id": "9b8eecd2-9ea9-4455-8600-6ff17988a65f",
   "metadata": {},
   "outputs": [],
   "source": [
    "is_student = True"
   ]
  },
  {
   "cell_type": "code",
   "execution_count": null,
   "id": "6674e237-5411-44f8-9827-1f9822eb5d78",
   "metadata": {},
   "outputs": [],
   "source": []
  }
 ],
 "metadata": {
  "kernelspec": {
   "display_name": "Python 3 (ipykernel)",
   "language": "python",
   "name": "python3"
  },
  "language_info": {
   "codemirror_mode": {
    "name": "ipython",
    "version": 3
   },
   "file_extension": ".py",
   "mimetype": "text/x-python",
   "name": "python",
   "nbconvert_exporter": "python",
   "pygments_lexer": "ipython3",
   "version": "3.10.8"
  }
 },
 "nbformat": 4,
 "nbformat_minor": 5
}
