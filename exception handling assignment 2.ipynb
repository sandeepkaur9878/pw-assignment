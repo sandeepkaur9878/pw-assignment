{
 "cells": [
  {
   "cell_type": "markdown",
   "id": "172c74bf-f9e7-4a45-8f22-e46d2e6ad29d",
   "metadata": {},
   "source": [
    "### Q1. Explain why we have to use the Exception class while creating a Custom Exception."
   ]
  },
  {
   "cell_type": "code",
   "execution_count": 1,
   "id": "64caec87-3d3a-47e4-bae3-7ec69aad1ce7",
   "metadata": {},
   "outputs": [],
   "source": [
    "# In Python, the Exception class is used as the base class for creating custom exceptions. When creating a custom exception, it is important to inherit from the built-in Exception class or one of its subclasses. Here are the main reasons why we use the Exception class for creating custom exceptions:"
   ]
  },
  {
   "cell_type": "markdown",
   "id": "427f1f90-36d0-4957-a93d-f684fbbe8137",
   "metadata": {},
   "source": [
    "### A.Consistency and Compatibility"
   ]
  },
  {
   "cell_type": "code",
   "execution_count": 2,
   "id": "52a51cf4-320e-4a39-a1d6-f61f697bc252",
   "metadata": {},
   "outputs": [],
   "source": [
    "# By inheriting from the Exception class, you ensure that your custom exception follows the standard exception hierarchy in Python. This allows your custom exception to be compatible with the existing exception handling mechanisms and error reporting infrastructure in Python. It also makes it easier for other developers to understand and use your custom exception."
   ]
  },
  {
   "cell_type": "markdown",
   "id": "460ec8f7-7e4d-4754-b51e-a014f8d6d8e6",
   "metadata": {},
   "source": [
    "### B.Exception Handling"
   ]
  },
  {
   "cell_type": "code",
   "execution_count": 3,
   "id": "1123f468-2f31-4a0f-a1df-8a31f00e33c0",
   "metadata": {},
   "outputs": [],
   "source": [
    "# In Python, exceptions are used to handle and propagate errors or exceptional situations in a program. The Exception class provides the necessary infrastructure for exception handling, such as stack trace information, error messages, and traceback propagation. By inheriting from Exception, your custom exception can benefit from this existing exception handling framework."
   ]
  },
  {
   "cell_type": "markdown",
   "id": "9105a0eb-75f6-47ea-a877-7df65db0c8bb",
   "metadata": {},
   "source": [
    "### C. Catching and Filtering"
   ]
  },
  {
   "cell_type": "code",
   "execution_count": 4,
   "id": "42a2af6b-a71a-4f82-9cc4-5e77dc225da0",
   "metadata": {},
   "outputs": [],
   "source": [
    "#  When you raise a custom exception, you can catch and handle it separately from other exceptions using the except clause. By inheriting from Exception, your custom exception can be caught using a generic except block that catches all exceptions derived from the base Exception class. This allows you to selectively handle different types of exceptions in a more organized and structured manner."
   ]
  },
  {
   "cell_type": "markdown",
   "id": "208c3180-f1cf-4fb5-a810-66a3efaff640",
   "metadata": {},
   "source": [
    "### D. Documentation and Clarity"
   ]
  },
  {
   "cell_type": "code",
   "execution_count": 5,
   "id": "9fdad16d-70a4-4a90-a6ba-c5aacec8b5ce",
   "metadata": {},
   "outputs": [],
   "source": [
    "# Inheriting from the Exception class explicitly communicates to other developers that your class is intended to be an exception. It makes the code more readable and self-explanatory. It also makes it easier to document your custom exception, as you can refer to it as a subclass of Exception and explain its purpose and usage accordingly."
   ]
  },
  {
   "cell_type": "code",
   "execution_count": 6,
   "id": "39eb27d1-1f0c-4f57-9f28-427ffec70092",
   "metadata": {},
   "outputs": [],
   "source": [
    "# In summary, by using the Exception class as the base class for creating custom exceptions, you ensure consistency, compatibility, and proper exception handling in your code. It also enhances readability and documentation, making it easier for others to understand and work with your custom exception."
   ]
  },
  {
   "cell_type": "code",
   "execution_count": 7,
   "id": "a13a77cd-84e8-4073-96c0-f5ce2b4521af",
   "metadata": {},
   "outputs": [],
   "source": [
    "class CustomException(Exception):\n",
    "    pass"
   ]
  },
  {
   "cell_type": "markdown",
   "id": "cc4bb2ed-28d3-4bc4-b4dd-febd1db80c32",
   "metadata": {},
   "source": [
    "### Q2. Write a python program to print Python Exception Hierarchy."
   ]
  },
  {
   "cell_type": "code",
   "execution_count": 27,
   "id": "ef6d77e4-9dff-4237-b03a-141d9de1af03",
   "metadata": {},
   "outputs": [],
   "source": [
    "import inspect"
   ]
  },
  {
   "cell_type": "code",
   "execution_count": 29,
   "id": "66edc3e2-e5bd-43e3-889b-3b4596ad1f7e",
   "metadata": {},
   "outputs": [
    {
     "name": "stdout",
     "output_type": "stream",
     "text": [
      " BaseException\n",
      "... Exception\n",
      "...... TypeError\n",
      "......... FloatOperation\n",
      "......... MultipartConversionError\n",
      "...... StopAsyncIteration\n",
      "...... StopIteration\n",
      "...... ImportError\n",
      "......... ModuleNotFoundError\n",
      "......... ZipImportError\n",
      "...... OSError\n",
      "......... ConnectionError\n",
      "............ BrokenPipeError\n",
      "............ ConnectionAbortedError\n",
      "............ ConnectionRefusedError\n",
      "............ ConnectionResetError\n",
      "............... RemoteDisconnected\n",
      "......... BlockingIOError\n",
      "......... ChildProcessError\n",
      "......... FileExistsError\n",
      "......... FileNotFoundError\n",
      "......... IsADirectoryError\n",
      "......... NotADirectoryError\n",
      "......... InterruptedError\n",
      "............ InterruptedSystemCall\n",
      "......... PermissionError\n",
      "......... ProcessLookupError\n",
      "......... TimeoutError\n",
      "......... UnsupportedOperation\n",
      "......... itimer_error\n",
      "......... herror\n",
      "......... gaierror\n",
      "......... SSLError\n",
      "............ SSLCertVerificationError\n",
      "............ SSLZeroReturnError\n",
      "............ SSLWantWriteError\n",
      "............ SSLWantReadError\n",
      "............ SSLSyscallError\n",
      "............ SSLEOFError\n",
      "......... Error\n",
      "............ SameFileError\n",
      "......... SpecialFileError\n",
      "......... ExecError\n",
      "......... ReadError\n",
      "......... URLError\n",
      "............ HTTPError\n",
      "............ ContentTooShortError\n",
      "......... BadGzipFile\n",
      "...... EOFError\n",
      "......... IncompleteReadError\n",
      "...... RuntimeError\n",
      "......... RecursionError\n",
      "......... NotImplementedError\n",
      "............ ZMQVersionError\n",
      "............ StdinNotImplementedError\n",
      "......... _DeadlockError\n",
      "......... BrokenBarrierError\n",
      "......... BrokenExecutor\n",
      "............ BrokenThreadPool\n",
      "......... SendfileNotAvailableError\n",
      "......... ExtractionError\n",
      "......... VariableError\n",
      "...... NameError\n",
      "......... UnboundLocalError\n",
      "...... AttributeError\n",
      "......... FrozenInstanceError\n",
      "...... SyntaxError\n",
      "......... IndentationError\n",
      "............ TabError\n",
      "...... LookupError\n",
      "......... IndexError\n",
      "......... KeyError\n",
      "............ NoSuchKernel\n",
      "............ UnknownBackend\n",
      "......... CodecRegistryError\n",
      "...... ValueError\n",
      "......... UnicodeError\n",
      "............ UnicodeEncodeError\n",
      "............ UnicodeDecodeError\n",
      "............ UnicodeTranslateError\n",
      "......... UnsupportedOperation\n",
      "......... JSONDecodeError\n",
      "......... SSLCertVerificationError\n",
      "......... Error\n",
      "......... UnsupportedDigestmodError\n",
      "......... IllegalMonthError\n",
      "......... IllegalWeekdayError\n",
      "......... ParserError\n",
      "......... ClassNotFound\n",
      "......... ClipboardEmpty\n",
      "......... MessageDefect\n",
      "............ NoBoundaryInMultipartDefect\n",
      "............ StartBoundaryNotFoundDefect\n",
      "............ CloseBoundaryNotFoundDefect\n",
      "............ FirstHeaderLineIsContinuationDefect\n",
      "............ MisplacedEnvelopeHeaderDefect\n",
      "............ MissingHeaderBodySeparatorDefect\n",
      "............ MultipartInvariantViolationDefect\n",
      "............ InvalidMultipartContentTransferEncodingDefect\n",
      "............ UndecodableBytesDefect\n",
      "............ InvalidBase64PaddingDefect\n",
      "............ InvalidBase64CharactersDefect\n",
      "............ InvalidBase64LengthDefect\n",
      "............ HeaderDefect\n",
      "............... InvalidHeaderDefect\n",
      "............... HeaderMissingRequiredValue\n",
      "............... NonPrintableDefect\n",
      "............... ObsoleteHeaderDefect\n",
      "............... NonASCIILocalPartDefect\n",
      "............... InvalidDateDefect\n",
      "......... MacroToEdit\n",
      "......... InvalidFileException\n",
      "......... UnequalIterablesError\n",
      "......... InvalidVersion\n",
      "......... _InvalidELFFileHeader\n",
      "......... InvalidWheelFilename\n",
      "......... InvalidSdistFilename\n",
      "......... InvalidSpecifier\n",
      "......... InvalidMarker\n",
      "......... UndefinedComparison\n",
      "......... UndefinedEnvironmentName\n",
      "......... InvalidRequirement\n",
      "............ RequirementParseError\n",
      "......... InvalidVersion\n",
      "...... AssertionError\n",
      "...... ArithmeticError\n",
      "......... FloatingPointError\n",
      "......... OverflowError\n",
      "......... ZeroDivisionError\n",
      "............ DivisionByZero\n",
      "............ DivisionUndefined\n",
      "......... DecimalException\n",
      "............ Clamped\n",
      "............ Rounded\n",
      "............... Underflow\n",
      "............... Overflow\n",
      "............ Inexact\n",
      "............... Underflow\n",
      "............... Overflow\n",
      "............ Subnormal\n",
      "............... Underflow\n",
      "............ DivisionByZero\n",
      "............ FloatOperation\n",
      "............ InvalidOperation\n",
      "............... ConversionSyntax\n",
      "............... DivisionImpossible\n",
      "............... DivisionUndefined\n",
      "............... InvalidContext\n",
      "...... SystemError\n",
      "......... CodecRegistryError\n",
      "...... ReferenceError\n",
      "...... MemoryError\n",
      "...... BufferError\n",
      "...... Warning\n",
      "......... UserWarning\n",
      "............ GetPassWarning\n",
      "............ FormatterWarning\n",
      "......... EncodingWarning\n",
      "......... DeprecationWarning\n",
      "............ ProvisionalWarning\n",
      "......... PendingDeprecationWarning\n",
      "......... SyntaxWarning\n",
      "......... RuntimeWarning\n",
      "............ ProactorSelectorThreadWarning\n",
      "............ UnknownTimezoneWarning\n",
      "............ PEP440Warning\n",
      "......... FutureWarning\n",
      "............ ProvisionalCompleterWarning\n",
      "......... ImportWarning\n",
      "......... UnicodeWarning\n",
      "......... BytesWarning\n",
      "......... ResourceWarning\n",
      "......... DeprecatedTzFormatWarning\n",
      "......... PkgResourcesDeprecationWarning\n",
      "...... _OptionError\n",
      "...... _Error\n",
      "...... error\n",
      "...... Verbose\n",
      "...... Error\n",
      "...... SubprocessError\n",
      "......... CalledProcessError\n",
      "......... TimeoutExpired\n",
      "...... TokenError\n",
      "...... StopTokenizing\n",
      "...... ClassFoundException\n",
      "...... EndOfBlock\n",
      "...... TraitError\n",
      "...... Error\n",
      "...... Error\n",
      "......... CancelledError\n",
      "......... TimeoutError\n",
      "......... InvalidStateError\n",
      "...... _GiveupOnSendfile\n",
      "...... error\n",
      "...... Incomplete\n",
      "...... TimeoutError\n",
      "...... InvalidStateError\n",
      "...... LimitOverrunError\n",
      "...... QueueEmpty\n",
      "...... QueueFull\n",
      "...... Empty\n",
      "...... Full\n",
      "...... ArgumentError\n",
      "...... ZMQBaseError\n",
      "......... ZMQError\n",
      "............ ContextTerminated\n",
      "............ Again\n",
      "............ InterruptedSystemCall\n",
      "......... ZMQBindError\n",
      "......... NotDone\n",
      "...... PickleError\n",
      "......... PicklingError\n",
      "......... UnpicklingError\n",
      "...... _Stop\n",
      "...... ArgumentError\n",
      "...... ArgumentTypeError\n",
      "...... ConfigError\n",
      "......... ConfigLoaderError\n",
      "............ ArgumentError\n",
      "......... ConfigFileNotFound\n",
      "...... ConfigurableError\n",
      "......... MultipleInstanceError\n",
      "...... ApplicationError\n",
      "...... error\n",
      "...... TimeoutError\n",
      "...... error\n",
      "...... ReturnValueIgnoredError\n",
      "...... KeyReuseError\n",
      "...... UnknownKeyError\n",
      "...... LeakedCallbackError\n",
      "...... BadYieldError\n",
      "...... ReturnValueIgnoredError\n",
      "...... Return\n",
      "...... InvalidPortNumber\n",
      "...... error\n",
      "...... LZMAError\n",
      "...... RegistryError\n",
      "...... _GiveupOnFastCopy\n",
      "...... Error\n",
      "......... NoSectionError\n",
      "......... DuplicateSectionError\n",
      "......... DuplicateOptionError\n",
      "......... NoOptionError\n",
      "......... InterpolationError\n",
      "............ InterpolationMissingOptionError\n",
      "............ InterpolationSyntaxError\n",
      "............ InterpolationDepthError\n",
      "......... ParsingError\n",
      "............ MissingSectionHeaderError\n",
      "...... NoIPAddresses\n",
      "...... BadZipFile\n",
      "...... LargeZipFile\n",
      "...... BadEntryPoint\n",
      "...... NoSuchEntryPoint\n",
      "...... DuplicateKernelError\n",
      "...... ErrorDuringImport\n",
      "...... NotOneValueFound\n",
      "...... CannotEval\n",
      "...... OptionError\n",
      "...... BdbQuit\n",
      "...... Restart\n",
      "...... ExceptionPexpect\n",
      "......... EOF\n",
      "......... TIMEOUT\n",
      "...... PtyProcessError\n",
      "...... FindCmdError\n",
      "...... HomeDirError\n",
      "...... ProfileDirError\n",
      "...... IPythonCoreError\n",
      "......... TryNext\n",
      "......... UsageError\n",
      "......... StdinNotImplementedError\n",
      "...... InputRejected\n",
      "...... GetoptError\n",
      "...... ErrorToken\n",
      "...... PrefilterError\n",
      "...... AliasError\n",
      "......... InvalidAliasError\n",
      "...... Error\n",
      "......... InterfaceError\n",
      "......... DatabaseError\n",
      "............ InternalError\n",
      "............ OperationalError\n",
      "............ ProgrammingError\n",
      "............ IntegrityError\n",
      "............ DataError\n",
      "............ NotSupportedError\n",
      "...... Warning\n",
      "...... SpaceInInput\n",
      "...... DOMException\n",
      "......... IndexSizeErr\n",
      "......... DomstringSizeErr\n",
      "......... HierarchyRequestErr\n",
      "......... WrongDocumentErr\n",
      "......... InvalidCharacterErr\n",
      "......... NoDataAllowedErr\n",
      "......... NoModificationAllowedErr\n",
      "......... NotFoundErr\n",
      "......... NotSupportedErr\n",
      "......... InuseAttributeErr\n",
      "......... InvalidStateErr\n",
      "......... SyntaxErr\n",
      "......... InvalidModificationErr\n",
      "......... NamespaceErr\n",
      "......... InvalidAccessErr\n",
      "......... ValidationErr\n",
      "...... ValidationError\n",
      "...... EditReadOnlyBuffer\n",
      "...... _Retry\n",
      "...... InvalidLayoutError\n",
      "...... HeightIsUnknownError\n",
      "...... ParserSyntaxError\n",
      "...... InternalParseError\n",
      "...... _PositionUpdatingFinished\n",
      "...... SimpleGetItemNotFound\n",
      "...... UncaughtAttributeError\n",
      "...... HasNoContext\n",
      "...... ParamIssue\n",
      "...... _JediError\n",
      "......... InternalError\n",
      "......... WrongVersion\n",
      "......... RefactoringError\n",
      "...... OnErrorLeaf\n",
      "...... InvalidPythonEnvironment\n",
      "...... MessageError\n",
      "......... MessageParseError\n",
      "............ HeaderParseError\n",
      "............ BoundaryError\n",
      "......... MultipartConversionError\n",
      "......... CharsetError\n",
      "...... Error\n",
      "...... HTTPException\n",
      "......... NotConnected\n",
      "......... InvalidURL\n",
      "......... UnknownProtocol\n",
      "......... UnknownTransferEncoding\n",
      "......... UnimplementedFileMode\n",
      "......... IncompleteRead\n",
      "......... ImproperConnectionState\n",
      "............ CannotSendRequest\n",
      "............ CannotSendHeader\n",
      "............ ResponseNotReady\n",
      "......... BadStatusLine\n",
      "............ RemoteDisconnected\n",
      "......... LineTooLong\n",
      "...... InteractivelyDefined\n",
      "...... KillEmbedded\n",
      "...... Error\n",
      "......... NoSuchProcess\n",
      "............ ZombieProcess\n",
      "......... AccessDenied\n",
      "......... TimeoutExpired\n",
      "...... _Ipv6UnsupportedError\n",
      "...... QueueEmpty\n",
      "...... QueueFull\n",
      "...... DebuggerInitializationError\n",
      "...... ExpatError\n",
      "...... Error\n",
      "......... ProtocolError\n",
      "......... ResponseError\n",
      "......... Fault\n",
      "...... ParseBaseException\n",
      "......... ParseException\n",
      "......... ParseFatalException\n",
      "............ ParseSyntaxException\n",
      "...... RecursiveGrammarException\n",
      "...... ResolutionError\n",
      "......... VersionConflict\n",
      "............ ContextualVersionConflict\n",
      "......... DistributionNotFound\n",
      "......... UnknownExtra\n",
      "...... _Error\n",
      "...... UnableToResolveVariableException\n",
      "...... InvalidTypeInArgsException\n",
      "...... CustomException\n",
      "... GeneratorExit\n",
      "... SystemExit\n",
      "... KeyboardInterrupt\n",
      "... CancelledError\n",
      "... AbortThread\n"
     ]
    }
   ],
   "source": [
    "\n",
    "def classtree(cls,indent=0):\n",
    "    print(\".\" *indent, cls.__name__)\n",
    "    for subcls in cls.__subclasses__():\n",
    "        classtree(subcls,indent+3)\n",
    "        \n",
    "classtree(BaseException)        "
   ]
  },
  {
   "cell_type": "markdown",
   "id": "e266c66d-23c6-4e81-b024-0fe8569e5e9d",
   "metadata": {},
   "source": [
    "### Q3. What errors are defined in the ArithmeticError class? Explain any two with an example."
   ]
  },
  {
   "cell_type": "code",
   "execution_count": 14,
   "id": "dd49a95d-4e74-4403-8afc-14f7d489b963",
   "metadata": {},
   "outputs": [],
   "source": [
    "# In python, the 'ArithmeticError' class is the base class for all exceptions that occur during arithmetic calculations. It encompasses various specific error classes related to arithmetic operations."
   ]
  },
  {
   "cell_type": "markdown",
   "id": "97ac19c3-9a6b-4805-aec3-1a80f7531227",
   "metadata": {},
   "source": [
    "### A. ZeroDivisionError:"
   ]
  },
  {
   "cell_type": "code",
   "execution_count": 15,
   "id": "a6d281bb-d536-49cd-8500-811e5bd800c9",
   "metadata": {},
   "outputs": [],
   "source": [
    "# ZeroDivisionError is raised when attempting to divide a number by zero. This exception occurs when the denominator in a division operation is zero."
   ]
  },
  {
   "cell_type": "code",
   "execution_count": 16,
   "id": "43a394e4-74d6-43c3-8c3b-72a611adaf0c",
   "metadata": {},
   "outputs": [
    {
     "name": "stdout",
     "output_type": "stream",
     "text": [
      "Error: division by zero\n"
     ]
    }
   ],
   "source": [
    "try:\n",
    "    divide = 10/0\n",
    "except ZeroDivisionError as e :\n",
    "    print(\"Error:\", e)"
   ]
  },
  {
   "cell_type": "markdown",
   "id": "d38264fd-c75f-44eb-a2c8-40f17891f0cf",
   "metadata": {},
   "source": [
    "### B. ValueError:"
   ]
  },
  {
   "cell_type": "code",
   "execution_count": 34,
   "id": "0464c1a8-3aab-49ee-a3ba-a99c2ffb6ad6",
   "metadata": {},
   "outputs": [],
   "source": [
    "# In Python, a 'ValueError' is an exception that is raised when a function receives an argument of the correct type but an invalid value. It indicates that the value passed to the function is inappropriate or outside the acceptable range."
   ]
  },
  {
   "cell_type": "code",
   "execution_count": 33,
   "id": "75b90e2f-3818-4238-b64e-8663f970bae9",
   "metadata": {},
   "outputs": [
    {
     "name": "stdout",
     "output_type": "stream",
     "text": [
      "Cannot calculate square root of a negative number\n"
     ]
    }
   ],
   "source": [
    "def calculate_square_root(number):\n",
    "    if number < 0:\n",
    "        raise ValueError(\"Cannot calculate square root of a negative number\")\n",
    "    return math.sqrt(number)\n",
    "\n",
    "try:\n",
    "    result = calculate_square_root(-4)\n",
    "    print(result)\n",
    "except ValueError as e:\n",
    "    print(e)\n"
   ]
  },
  {
   "cell_type": "markdown",
   "id": "458a50ff-4221-4036-8902-e808e4a32595",
   "metadata": {},
   "source": [
    "### Q4. Why LookupError class is used? Explain with an example KeyError and IndexError."
   ]
  },
  {
   "cell_type": "markdown",
   "id": "accdc82f-2a85-48f0-b0b4-05fa6b4a9573",
   "metadata": {},
   "source": [
    "### LookupError class :"
   ]
  },
  {
   "cell_type": "code",
   "execution_count": 1,
   "id": "b2aac18b-48af-4e14-9fd7-cb448f74714f",
   "metadata": {},
   "outputs": [],
   "source": [
    "# The LookupError class is a base class for exceptions that occur when a lookup or indexing operation fails. It is used to handle errors that arise when attempting to access elements in various data structures, such as lists, dictionaries, or sequences."
   ]
  },
  {
   "cell_type": "markdown",
   "id": "4dd2325b-d11a-49f8-a537-54557dc6a0b4",
   "metadata": {},
   "source": [
    "### a. KeyError: "
   ]
  },
  {
   "cell_type": "code",
   "execution_count": 2,
   "id": "b82d82d7-00e6-48fd-8dc8-ab45402d93e6",
   "metadata": {},
   "outputs": [],
   "source": [
    "# 'KeyError' is a specific type of 'LookupError' that is raised when you try to access a dictionary key that doesn't exist. It occurs when you use a key to retrieve a value from a dictionary, but the key is not present in the dictionary."
   ]
  },
  {
   "cell_type": "code",
   "execution_count": 3,
   "id": "9efe1c48-ae3c-4956-81a5-89ff3b003fba",
   "metadata": {},
   "outputs": [
    {
     "name": "stdout",
     "output_type": "stream",
     "text": [
      "KeyError: the key 'd' does not exist in dic.\n"
     ]
    }
   ],
   "source": [
    "my_dict = {'a' : 1, 'b': 2 , 'c': 3}\n",
    "\n",
    "try:\n",
    "    value = my_dict['d']  # accesing a non-esixtent key\n",
    "except KeyError:\n",
    "    print(\"KeyError: the key 'd' does not exist in dic.\")\n",
    "    "
   ]
  },
  {
   "cell_type": "markdown",
   "id": "e3b9729b-4dad-4d6b-b013-290392f4f78b",
   "metadata": {},
   "source": [
    "### b. IndexError:"
   ]
  },
  {
   "cell_type": "code",
   "execution_count": 4,
   "id": "c0760923-54be-43ac-97bf-67198bcc02aa",
   "metadata": {},
   "outputs": [],
   "source": [
    "# 'IndexError' is another specific type of 'LookupError' that occurs when you try to access an invalid index of a sequence (e.g., a list, tuple, or string). It happens when you use an index that is either negative, greater than or equal to the length of the sequence, or not an integer. Here's an example:"
   ]
  },
  {
   "cell_type": "code",
   "execution_count": 5,
   "id": "9afcd4f2-a75c-4f36-ae28-4084669a6e40",
   "metadata": {},
   "outputs": [
    {
     "name": "stdout",
     "output_type": "stream",
     "text": [
      "IndexError: The index is out of range\n"
     ]
    }
   ],
   "source": [
    "my_list = [1,2,3]\n",
    "\n",
    "try:\n",
    "    value = my_list[5]     # accesing an invalid index\n",
    "except IndexError:\n",
    "    print(\"IndexError: The index is out of range\")\n",
    "    "
   ]
  },
  {
   "cell_type": "markdown",
   "id": "8a6d2d55-af53-45be-ba35-cae1eab49fb6",
   "metadata": {},
   "source": [
    "### Q5. Explain ImportError. What is ModuleNotFoundError?"
   ]
  },
  {
   "cell_type": "markdown",
   "id": "dfa25d25-cf84-4418-8a96-9f4a066faeb3",
   "metadata": {},
   "source": [
    "### ImportError :"
   ]
  },
  {
   "cell_type": "code",
   "execution_count": 6,
   "id": "76c03356-b44a-46f8-8829-31abe7de4a61",
   "metadata": {},
   "outputs": [],
   "source": [
    "# An 'ImportError' is raised when an import statement encounters a problem while importing a module. This can occur due to various reasons, such as:"
   ]
  },
  {
   "cell_type": "code",
   "execution_count": 7,
   "id": "121c9eda-b0b1-444e-9ebe-d5d20f36e89f",
   "metadata": {},
   "outputs": [],
   "source": [
    "# a. The module or package does not exist.   b. The module or package is not installed.   c.There is a syntax error or an issue within the module code itself."
   ]
  },
  {
   "cell_type": "code",
   "execution_count": 8,
   "id": "c8da8f05-7f8d-43e0-abc4-063a4ddd23fd",
   "metadata": {},
   "outputs": [
    {
     "name": "stdout",
     "output_type": "stream",
     "text": [
      "The module 'non_existent_module' does not exist.\n"
     ]
    }
   ],
   "source": [
    "try:\n",
    "    import non_existent_module\n",
    "except ImportError:\n",
    "    print(\"The module 'non_existent_module' does not exist.\")"
   ]
  },
  {
   "cell_type": "markdown",
   "id": "00fe8e67-9442-4881-ac4b-d1eed75a21a1",
   "metadata": {},
   "source": [
    "### ModuleNotFoundError :"
   ]
  },
  {
   "cell_type": "code",
   "execution_count": 9,
   "id": "9e857361-9cb9-4d4e-97d8-130a404c8964",
   "metadata": {},
   "outputs": [],
   "source": [
    "# . It is a subclass of 'ImportError' and is raised when the specified module or package cannot be found during the import process. The 'ModuleNotFoundError' is a more explicit indication that the module was not found."
   ]
  },
  {
   "cell_type": "code",
   "execution_count": 10,
   "id": "ca4bd436-e255-41c1-a42f-173822c63c2f",
   "metadata": {},
   "outputs": [
    {
     "name": "stdout",
     "output_type": "stream",
     "text": [
      "The module 'non_existent_module' could not found.\n"
     ]
    }
   ],
   "source": [
    "try:\n",
    "    import non_existent_module\n",
    "except ModuleNotFoundError:\n",
    "    print(\"The module 'non_existent_module' could not found.\")"
   ]
  },
  {
   "cell_type": "markdown",
   "id": "7a7f0367-ad69-453d-8d99-93a5c1bf8828",
   "metadata": {},
   "source": [
    "### Q6. List down some best practices for exception handling in python."
   ]
  },
  {
   "cell_type": "code",
   "execution_count": 11,
   "id": "5c6f1b1c-78a0-4ff6-859c-505514693d8b",
   "metadata": {},
   "outputs": [],
   "source": [
    "# Exception handling is an essential part of writing robust and reliable Python code. "
   ]
  },
  {
   "cell_type": "markdown",
   "id": "eb2e0591-8e39-4f09-9988-b0465c895b31",
   "metadata": {},
   "source": [
    "### 1. Use specific exception handling :"
   ]
  },
  {
   "cell_type": "code",
   "execution_count": 12,
   "id": "f8079695-fb79-4d26-891b-33498a92c80a",
   "metadata": {},
   "outputs": [],
   "source": [
    "# Instead of catching all exceptions using a broad 'except' block, it's better to catch specific exceptions. This helps in handling different types of errors appropriately."
   ]
  },
  {
   "cell_type": "code",
   "execution_count": 13,
   "id": "46f40b23-5baa-42d6-83fc-2aaf6482ec84",
   "metadata": {},
   "outputs": [
    {
     "name": "stdout",
     "output_type": "stream",
     "text": [
      "division by zero\n"
     ]
    }
   ],
   "source": [
    "try :\n",
    "    10/0\n",
    "except ZeroDivisionError as e :\n",
    "    print(e)"
   ]
  },
  {
   "cell_type": "markdown",
   "id": "18d4a765-c78f-4475-a9cb-764171afa7b0",
   "metadata": {},
   "source": [
    "### 2. Print always a proper message:"
   ]
  },
  {
   "cell_type": "code",
   "execution_count": 14,
   "id": "43ed473e-ecca-4fbb-a8cc-265ea3e062b7",
   "metadata": {},
   "outputs": [
    {
     "name": "stdout",
     "output_type": "stream",
     "text": [
      "i am trying to handle a zerodivisionerror  division by zero\n"
     ]
    }
   ],
   "source": [
    "try :\n",
    "    10/0\n",
    "except ZeroDivisionError as e :\n",
    "    print(\"i am trying to handle a zerodivisionerror \" , e)\n"
   ]
  },
  {
   "cell_type": "markdown",
   "id": "7f87673d-e2b1-4552-8f6b-0fe12215296a",
   "metadata": {},
   "source": [
    "### 3. Use 'finally' for cleanup"
   ]
  },
  {
   "cell_type": "code",
   "execution_count": 15,
   "id": "51933ba3-9188-4414-b3b9-7bd3357c54bf",
   "metadata": {},
   "outputs": [],
   "source": [
    "# The 'finally' block ensures that certain code executes regardless of whether an exception was raised or not. It is commonly used for cleanup operations."
   ]
  },
  {
   "cell_type": "code",
   "execution_count": 16,
   "id": "07dc998d-ebe0-4d11-b984-10f587ae45ee",
   "metadata": {},
   "outputs": [],
   "source": [
    "try :\n",
    "    with open (\"test1.txt\" , 'w') as f :\n",
    "        f.write(\"this is my data to file\")\n",
    "except FileNotFoundError as e :\n",
    "    logging.error(\"i am trying to handle a zerodivisionerror {}\".format(e))\n",
    "finally:\n",
    "    f.close()\n"
   ]
  },
  {
   "cell_type": "markdown",
   "id": "56962bce-0e96-4221-bd12-99d8ab91f410",
   "metadata": {},
   "source": [
    "### 4. Always try to log your error:"
   ]
  },
  {
   "cell_type": "code",
   "execution_count": 19,
   "id": "20600cc4-cfb2-4097-8028-b430a3b7a705",
   "metadata": {},
   "outputs": [],
   "source": [
    "import logging\n",
    "logging.basicConfig(filename = \"error.log\" , level = logging.ERROR)\n",
    "try :\n",
    "    10/0\n",
    "except ZeroDivisionError as e :\n",
    "    logging.error(\"i am trying to handle a zerodivisionerror {}\".format(e))\n",
    "\n"
   ]
  },
  {
   "cell_type": "markdown",
   "id": "fd1d3a31-4d65-49b0-a26e-92a57358b1f6",
   "metadata": {},
   "source": [
    "### 5. Avoid unnecessary try-except blocks:"
   ]
  },
  {
   "cell_type": "code",
   "execution_count": 17,
   "id": "f7a0968a-9fd9-4278-8ac9-28f673608d57",
   "metadata": {},
   "outputs": [],
   "source": [
    "# Only wrap the specific code that may raise an exception within the 'try' block. This ensures that exceptions are caught and handled only where necessary."
   ]
  },
  {
   "cell_type": "code",
   "execution_count": 20,
   "id": "b66c56fa-0800-430d-a7d6-baa1e091dc1d",
   "metadata": {},
   "outputs": [],
   "source": [
    "try :\n",
    "    10/0\n",
    "except FileNotFoundError as e :\n",
    "    logging.error(\"i am handling file not found {}\".format(e))\n",
    "except AttributeError as e :\n",
    "    logging.error(\"i am handling attribute error {}\". format(e))\n",
    "except ZeroDivisionError as e :\n",
    "    logging.error(\"i am trying to handle a zerodivisionerror {}\".format(e))\n"
   ]
  },
  {
   "cell_type": "code",
   "execution_count": null,
   "id": "0745a506-679c-4ffb-a125-8cd71fe63975",
   "metadata": {},
   "outputs": [],
   "source": []
  }
 ],
 "metadata": {
  "kernelspec": {
   "display_name": "Python 3 (ipykernel)",
   "language": "python",
   "name": "python3"
  },
  "language_info": {
   "codemirror_mode": {
    "name": "ipython",
    "version": 3
   },
   "file_extension": ".py",
   "mimetype": "text/x-python",
   "name": "python",
   "nbconvert_exporter": "python",
   "pygments_lexer": "ipython3",
   "version": "3.10.8"
  }
 },
 "nbformat": 4,
 "nbformat_minor": 5
}
