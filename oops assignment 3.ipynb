{
 "cells": [
  {
   "cell_type": "markdown",
   "id": "1d3f4a07-0056-4703-8358-bb3207f76082",
   "metadata": {},
   "source": [
    "### Q1, Create a vehicle class with an init method having instance variables as name_of_vehicle, max_speed and average_of_vehicle."
   ]
  },
  {
   "cell_type": "code",
   "execution_count": 1,
   "id": "fff20798-f705-4e16-88c4-6c2527f57264",
   "metadata": {},
   "outputs": [],
   "source": [
    "class vehicle :\n",
    "    def __init__(self, name, max_speed, average_speed):\n",
    "        self.name = name\n",
    "        self.max_speed = max_speed\n",
    "        self.average_speed = average_speed"
   ]
  },
  {
   "cell_type": "code",
   "execution_count": 2,
   "id": "bb8d2a7a-f524-4b08-b926-9416dd9f2df7",
   "metadata": {},
   "outputs": [],
   "source": [
    "car = vehicle(\"car\", 200, 70)"
   ]
  },
  {
   "cell_type": "code",
   "execution_count": 3,
   "id": "655cea1f-5ba4-41c5-ae1f-0d8da275a5d2",
   "metadata": {},
   "outputs": [
    {
     "name": "stdout",
     "output_type": "stream",
     "text": [
      "car\n"
     ]
    }
   ],
   "source": [
    "print(car.name)"
   ]
  },
  {
   "cell_type": "code",
   "execution_count": 4,
   "id": "0967987c-a9cf-463b-8804-16b5a890c0d8",
   "metadata": {},
   "outputs": [
    {
     "name": "stdout",
     "output_type": "stream",
     "text": [
      "200\n"
     ]
    }
   ],
   "source": [
    "print(car.max_speed)"
   ]
  },
  {
   "cell_type": "code",
   "execution_count": 5,
   "id": "d079bea2-8a34-4549-b920-285faa294148",
   "metadata": {},
   "outputs": [
    {
     "name": "stdout",
     "output_type": "stream",
     "text": [
      "70\n"
     ]
    }
   ],
   "source": [
    "print(car.average_speed)"
   ]
  },
  {
   "cell_type": "markdown",
   "id": "8ecbbeec-581e-4a65-84f2-37451df9010b",
   "metadata": {},
   "source": [
    "### Q2. Create a child class car from the vehicle class created in Que 1, which will inherit the vehicle class.Create a method named seating_capacity which takes capacity as an argument and returns the name of the vehicle and its seating capacity."
   ]
  },
  {
   "cell_type": "code",
   "execution_count": 6,
   "id": "fcf0d16a-8809-4e80-bf1a-0a2e1f70dcbd",
   "metadata": {},
   "outputs": [],
   "source": [
    "class vehicle :\n",
    "    def __init__(self, name, max_speed, average_speed):\n",
    "        self.name = name\n",
    "        self.max_speed = max_speed\n",
    "        self.average_speed = average_speed\n",
    "        \n",
    "class car(vehicle):\n",
    "    def __init__(self, name, max_speed, average_speed):\n",
    "        super().__init__(name, max_speed, average_speed)\n",
    "        \n",
    "    def seating_capacity(self, capacity):\n",
    "        return f\"the {self.name} has a seating capacity of {capacity} people.\""
   ]
  },
  {
   "cell_type": "code",
   "execution_count": 7,
   "id": "31231827-92f6-488b-9a0a-166b628ef7b4",
   "metadata": {},
   "outputs": [
    {
     "name": "stdout",
     "output_type": "stream",
     "text": [
      "the Toyota has a seating capacity of 5 people.\n"
     ]
    }
   ],
   "source": [
    "my_car = car(\"Toyota\" , 200, 80)\n",
    "print(my_car.seating_capacity(5))"
   ]
  },
  {
   "cell_type": "markdown",
   "id": "40573387-6ad0-4011-b993-71c5bf5f205f",
   "metadata": {},
   "source": [
    "### Q3. What is multiple inheritance? Write a python code to demonstrate multiple inheritance."
   ]
  },
  {
   "cell_type": "code",
   "execution_count": 8,
   "id": "78e5cb71-1ae1-49b4-9afc-4adcc1c1e2ca",
   "metadata": {},
   "outputs": [],
   "source": [
    "# Multiple inheritance is a feature in OOP languages that allows a class to inherit attributes and methods from more than one parent class. It enables a derived class to inherit properties an behaviours from multiple base classes."
   ]
  },
  {
   "cell_type": "code",
   "execution_count": 9,
   "id": "69d9a591-9416-4f33-beb9-a1d2bda95b32",
   "metadata": {},
   "outputs": [],
   "source": [
    "class car:\n",
    "    \n",
    "    def my_car(self):\n",
    "        return\"this car is gifted by my dad\"\n",
    "    \n",
    "class scooty:\n",
    "    \n",
    "    def my_scooty(self):\n",
    "        return\"this scooty is gifted by my brother\"\n",
    "    \n",
    "class vehicle(car , scooty):\n",
    "    pass\n",
    "    \n",
    "    "
   ]
  },
  {
   "cell_type": "code",
   "execution_count": 10,
   "id": "7ca11e2c-99ac-475f-afd0-90262b89a193",
   "metadata": {},
   "outputs": [],
   "source": [
    "obj_vehicle = vehicle()"
   ]
  },
  {
   "cell_type": "code",
   "execution_count": 12,
   "id": "9a514c22-705d-4d67-ba80-5c2281360cf6",
   "metadata": {},
   "outputs": [
    {
     "data": {
      "text/plain": [
       "'this car is gifted by my dad'"
      ]
     },
     "execution_count": 12,
     "metadata": {},
     "output_type": "execute_result"
    }
   ],
   "source": [
    "obj_vehicle.my_car()"
   ]
  },
  {
   "cell_type": "code",
   "execution_count": 14,
   "id": "c72abe83-bcd5-485c-88c8-3cda162f5980",
   "metadata": {},
   "outputs": [
    {
     "data": {
      "text/plain": [
       "'this scooty is gifted by my brother'"
      ]
     },
     "execution_count": 14,
     "metadata": {},
     "output_type": "execute_result"
    }
   ],
   "source": [
    "obj_vehicle.my_scooty()"
   ]
  },
  {
   "cell_type": "markdown",
   "id": "80b0b17c-9bd0-4b6e-89fd-e9ba043e86e4",
   "metadata": {},
   "source": [
    "### Q4. What are getter and setter in python? Create a class and create a getter and a setter method in this class."
   ]
  },
  {
   "cell_type": "code",
   "execution_count": 15,
   "id": "0de6f221-11da-40f6-9765-1d02e43c5e62",
   "metadata": {},
   "outputs": [],
   "source": [
    "# getter and setter methods are used to control access to the attributes of a class. They allows you to retrieve the value of an attribute (getter) or modify it (setter) in a controlled manner, typically providing additional logic or validation."
   ]
  },
  {
   "cell_type": "code",
   "execution_count": 29,
   "id": "de1913e4-ba88-42f7-9981-22070814642d",
   "metadata": {},
   "outputs": [],
   "source": [
    "class person:\n",
    "    def __init__(self, name):\n",
    "        self._name = name\n",
    "        \n",
    "   # Getter method for name    \n",
    "    def get_name(self):\n",
    "        return self._name\n",
    "    \n",
    "   # setter method for name\n",
    "    def set_name(self, name):\n",
    "        self._name = name"
   ]
  },
  {
   "cell_type": "code",
   "execution_count": 30,
   "id": "0e1f7b14-6650-4af9-9303-9cfce73558d5",
   "metadata": {},
   "outputs": [],
   "source": [
    "person = person(\"sandeep\")"
   ]
  },
  {
   "cell_type": "code",
   "execution_count": 31,
   "id": "bea72ade-7eee-46de-8bfb-377b22037934",
   "metadata": {},
   "outputs": [
    {
     "name": "stdout",
     "output_type": "stream",
     "text": [
      "sandeep\n"
     ]
    }
   ],
   "source": [
    "# geeting the name using the getter\n",
    "print(person.get_name())"
   ]
  },
  {
   "cell_type": "code",
   "execution_count": 32,
   "id": "941f489d-36e3-4a9a-8c76-228ecfaa42ff",
   "metadata": {},
   "outputs": [],
   "source": [
    "# setting a new name uing the setter\n",
    "person.set_name(\"kaur\")"
   ]
  },
  {
   "cell_type": "code",
   "execution_count": 33,
   "id": "2dde9e3b-f31c-4ca6-94ad-9437353f4950",
   "metadata": {},
   "outputs": [
    {
     "name": "stdout",
     "output_type": "stream",
     "text": [
      "kaur\n"
     ]
    }
   ],
   "source": [
    "print(person.get_name())"
   ]
  },
  {
   "cell_type": "markdown",
   "id": "ca8ed8d5-01f8-4304-bad0-40ca3ed1879f",
   "metadata": {},
   "source": [
    "### Q5.What is method overriding in python? Write a python code to demonstrate method overriding."
   ]
  },
  {
   "cell_type": "code",
   "execution_count": 34,
   "id": "cb8b606e-3cfc-4c24-b4ad-ce6aff07a7bd",
   "metadata": {},
   "outputs": [],
   "source": [
    "# Method overriding is an ability of any object-oriented programming language that allows a subclass or child class to provide a specific implementation of a method that is already provided by one of its super-classes or parent classes. When a method in a subclass has the same name, same parameters or signature and same return type(or sub-type) as a method in its super-class, then the method in the subclass is said to override the method in the super-class."
   ]
  },
  {
   "cell_type": "markdown",
   "id": "f1a9b98e-590a-44eb-ae42-ce397a31bdc4",
   "metadata": {},
   "source": [
    "### python code to demonstrate method overriding"
   ]
  },
  {
   "cell_type": "code",
   "execution_count": 35,
   "id": "2a254926-974e-4d57-b381-3e90dc636fb5",
   "metadata": {},
   "outputs": [],
   "source": [
    "class science():\n",
    "    def __init__(self):\n",
    "        self.value = \"science is very popular subject in future\"\n",
    "        \n",
    "    def show(self):\n",
    "        print(self.value)\n",
    "        \n",
    "class math(science):\n",
    "    def __init__(self):\n",
    "        self.value = \"math is very important for data science\"\n",
    "        \n",
    "    def show(self):\n",
    "        print(self.value)"
   ]
  },
  {
   "cell_type": "code",
   "execution_count": 36,
   "id": "b5c0fe5d-561a-421c-a9d8-3e6ad587147f",
   "metadata": {},
   "outputs": [],
   "source": [
    "obj_science = science()\n",
    "obj_math = math()"
   ]
  },
  {
   "cell_type": "code",
   "execution_count": 38,
   "id": "ea953175-36c9-4ab9-9e30-170a4e3018a0",
   "metadata": {},
   "outputs": [
    {
     "name": "stdout",
     "output_type": "stream",
     "text": [
      "science is very popular subject in future\n"
     ]
    }
   ],
   "source": [
    "obj_science.show()"
   ]
  },
  {
   "cell_type": "code",
   "execution_count": 39,
   "id": "b145240a-9e4e-4076-a676-f5f816c257ec",
   "metadata": {},
   "outputs": [
    {
     "name": "stdout",
     "output_type": "stream",
     "text": [
      "math is very important for data science\n"
     ]
    }
   ],
   "source": [
    "obj_math.show()"
   ]
  },
  {
   "cell_type": "code",
   "execution_count": null,
   "id": "63971312-cd08-47eb-983c-6438abc35629",
   "metadata": {},
   "outputs": [],
   "source": []
  }
 ],
 "metadata": {
  "kernelspec": {
   "display_name": "Python 3 (ipykernel)",
   "language": "python",
   "name": "python3"
  },
  "language_info": {
   "codemirror_mode": {
    "name": "ipython",
    "version": 3
   },
   "file_extension": ".py",
   "mimetype": "text/x-python",
   "name": "python",
   "nbconvert_exporter": "python",
   "pygments_lexer": "ipython3",
   "version": "3.10.8"
  }
 },
 "nbformat": 4,
 "nbformat_minor": 5
}
