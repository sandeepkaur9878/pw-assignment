{
 "cells": [
  {
   "cell_type": "markdown",
   "id": "5dce9af3-2d4a-4904-9b5a-9ab83097ad52",
   "metadata": {},
   "source": [
    "Q1. Which keyword is used to create a function? Create a function to return a list of odd numbers in the\n",
    "range of 1 to 25."
   ]
  },
  {
   "cell_type": "code",
   "execution_count": null,
   "id": "4007343e-42ca-4567-96a6-3442fd9240bd",
   "metadata": {},
   "outputs": [],
   "source": []
  },
  {
   "cell_type": "code",
   "execution_count": null,
   "id": "2a0c1233-cc1f-4e97-bfa6-ea53223ba4a7",
   "metadata": {},
   "outputs": [],
   "source": [
    "'def' keyword is used to create a function. Syntax of function is\n",
    "def function_name():\n",
    "    print('execution code ')"
   ]
  },
  {
   "cell_type": "code",
   "execution_count": 20,
   "id": "db46245e-d61b-46ee-8b56-48d0a6c6985d",
   "metadata": {},
   "outputs": [],
   "source": [
    "def odd_num():\n",
    "    odd_list = []\n",
    "    for i in range(1 , 26):\n",
    "        if i % 2 != 0:\n",
    "            odd_list.append(i)\n",
    "    return odd_list        "
   ]
  },
  {
   "cell_type": "code",
   "execution_count": 22,
   "id": "4a388481-b4b4-41af-9eb2-59badd423ccf",
   "metadata": {},
   "outputs": [
    {
     "name": "stdout",
     "output_type": "stream",
     "text": [
      "[1, 3, 5, 7, 9, 11, 13, 15, 17, 19, 21, 23, 25]\n"
     ]
    }
   ],
   "source": [
    "print(list(odd_num()))"
   ]
  },
  {
   "cell_type": "markdown",
   "id": "d7c27a8a-b538-4e22-894d-2a2a5cf945ca",
   "metadata": {},
   "source": [
    "Q2. Why *args and **kwargs is used in some functions? Create a function each for *args and **kwargs\n",
    "to demonstrate their use."
   ]
  },
  {
   "cell_type": "code",
   "execution_count": 23,
   "id": "da732905-c2c9-405c-a054-f778c36c2baa",
   "metadata": {},
   "outputs": [],
   "source": [
    "## The '*args' and '**kwargs' are special syntaxes used in python to pass a variable number of arguments to a function.\n",
    "# '*args' is used to pass a variable number of non-keyword arguments to the function.\n",
    "# '**kwargs' is used to pass a variable number of keyword arguments to the function."
   ]
  },
  {
   "cell_type": "code",
   "execution_count": 24,
   "id": "976ee894-9747-4d97-b2a8-e533fdfad62b",
   "metadata": {},
   "outputs": [],
   "source": [
    "##Example of *args\n",
    "def sum(*args):\n",
    "    sum = 0\n",
    "    for i in args:\n",
    "        sum += i\n",
    "    return sum    "
   ]
  },
  {
   "cell_type": "code",
   "execution_count": 25,
   "id": "a6594603-8883-4d5c-9761-22a9debb5c10",
   "metadata": {},
   "outputs": [
    {
     "name": "stdout",
     "output_type": "stream",
     "text": [
      "15\n"
     ]
    }
   ],
   "source": [
    "print(sum(1,2,3,4,5))"
   ]
  },
  {
   "cell_type": "code",
   "execution_count": 42,
   "id": "2819a8f7-542a-42de-8c66-46cd3e3fc4b0",
   "metadata": {},
   "outputs": [
    {
     "data": {
      "text/plain": [
       "{'name': 'sandeep', 'surname': 'bajwa', 'age': 27, 'state': 'uttarakhand'}"
      ]
     },
     "execution_count": 42,
     "metadata": {},
     "output_type": "execute_result"
    }
   ],
   "source": [
    "## Example of **kwargs\n",
    "\n",
    "def info(**kwargs):\n",
    "    return kwargs\n",
    "info(name = \"sandeep\", surname = \"bajwa\" , age = 27, state = \"uttarakhand\" )\n"
   ]
  },
  {
   "cell_type": "markdown",
   "id": "49291acf-1200-48aa-99a6-827048fe7c08",
   "metadata": {},
   "source": [
    "Q3. What is an iterator in python? Name the method used to initialise the iterator object and the method\n",
    "used for iteration. Use these methods to print the first five elements of the given list [2, 4, 6, 8, 10, 12, 14,\n",
    "16, 18, 20]."
   ]
  },
  {
   "cell_type": "code",
   "execution_count": 44,
   "id": "fbd4698b-b065-423b-a5d9-e30f7bd3b876",
   "metadata": {},
   "outputs": [],
   "source": [
    "## An iterator is an object that allows iteration over a colletion of elements, such as a list. Iterators are used in for loops and other constructs thar require sequential access to elements.\n",
    "\n",
    "## To initialize an iterator , you can use the 'iter()' function in python.\n",
    "\n",
    "## The method used for iteration is 'next()'."
   ]
  },
  {
   "cell_type": "code",
   "execution_count": 45,
   "id": "ca4460c8-4169-4d19-8da5-a82e85d32927",
   "metadata": {},
   "outputs": [
    {
     "name": "stdout",
     "output_type": "stream",
     "text": [
      "2\n",
      "4\n",
      "6\n",
      "8\n",
      "10\n"
     ]
    }
   ],
   "source": [
    "l = [2,4,6,8,10,12,14,16,18,20]\n",
    "l1 = iter(l)\n",
    "i = 0\n",
    "while i < 5:\n",
    "    print (next(l1))\n",
    "    i = i+1"
   ]
  },
  {
   "cell_type": "markdown",
   "id": "e1eeac34-6157-44f0-9ad2-d069143c8558",
   "metadata": {},
   "source": [
    "Q4. What is a generator function in python? Why yield keyword is used? Give an example of a generator\n",
    "function."
   ]
  },
  {
   "cell_type": "code",
   "execution_count": 1,
   "id": "04cd82b6-2269-457e-8086-aadcbf5855e1",
   "metadata": {},
   "outputs": [],
   "source": [
    "## A generator function in python is a type of function that returns an iterator object, which allows us to iterate over a sequence of values on the fly without having to store all of the values in memory at once.\n",
    "\n",
    "## The yield keyword allows us to create a generator function that returns a sequence of values, without having to store all of the values in memory at once."
   ]
  },
  {
   "cell_type": "code",
   "execution_count": 3,
   "id": "16b46c48-f652-4703-aa62-632253164d0f",
   "metadata": {},
   "outputs": [
    {
     "name": "stdout",
     "output_type": "stream",
     "text": [
      "0\n",
      "1\n",
      "1\n",
      "2\n",
      "3\n"
     ]
    }
   ],
   "source": [
    "## example of generator function\n",
    "\n",
    "def test_fib(n):\n",
    "    a , b = 0,1\n",
    "    for i in range(n):\n",
    "        yield a\n",
    "        a , b = b , a+b\n",
    "test_fib(5)\n",
    "for i in test_fib(5):\n",
    "    print(i)"
   ]
  },
  {
   "cell_type": "markdown",
   "id": "d0ef1c51-da55-4a7b-af8d-769f242bd3f0",
   "metadata": {},
   "source": [
    "Q5. Create a generator function for prime numbers less than 1000. Use the next() method to print the\n",
    "first 20 prime numbers."
   ]
  },
  {
   "cell_type": "code",
   "execution_count": 2,
   "id": "66354cae-43d1-4e8d-bb39-794fe29ff15e",
   "metadata": {},
   "outputs": [
    {
     "name": "stdout",
     "output_type": "stream",
     "text": [
      "2\n",
      "3\n",
      "5\n",
      "7\n",
      "11\n",
      "13\n",
      "17\n",
      "19\n",
      "23\n",
      "29\n",
      "31\n",
      "37\n",
      "41\n",
      "43\n",
      "47\n",
      "53\n",
      "59\n",
      "61\n",
      "67\n",
      "71\n"
     ]
    }
   ],
   "source": [
    "def prime(n):\n",
    "    flag = False\n",
    "    if n <= 2:\n",
    "        flag = True\n",
    "        return flag\n",
    "    for j in range(2,n):\n",
    "        if n % j == 0:\n",
    "            flag = False\n",
    "            break\n",
    "        else:\n",
    "            flag = True\n",
    "    return flag\n",
    "\n",
    "def prime_generator():\n",
    "    for i in range(2,1000):\n",
    "        if prime(i):\n",
    "            yield i\n",
    "            num = 1\n",
    "            \n",
    "prime_num = prime_generator()\n",
    "for i in range(20):\n",
    "    print(next(prime_num))"
   ]
  },
  {
   "cell_type": "code",
   "execution_count": 2,
   "id": "fc05a418-3dcb-4aec-8e54-4977422929f2",
   "metadata": {},
   "outputs": [
    {
     "name": "stdout",
     "output_type": "stream",
     "text": [
      "0\n",
      "1\n",
      "1\n",
      "2\n",
      "3\n",
      "5\n",
      "8\n",
      "13\n",
      "21\n",
      "34\n"
     ]
    }
   ],
   "source": [
    "def fib():\n",
    "    a , b = 0 , 1\n",
    "    while True:\n",
    "        yield a \n",
    "        a,b = b, a+b\n",
    "fib1 = fib()        \n",
    "for i in range(10):\n",
    "    print(next(fib1))"
   ]
  },
  {
   "cell_type": "markdown",
   "id": "5d2a2a14-0f97-46c0-8e77-eea3e5a8693b",
   "metadata": {},
   "source": [
    "Q7. Write a List Comprehension to iterate through the given string: ‘pwskills’.\n",
    "Expected output: ['p', 'w', 's', 'k', 'i', 'l', 'l', 's']"
   ]
  },
  {
   "cell_type": "code",
   "execution_count": 4,
   "id": "b896f2ad-5c78-4aa7-bb90-0dd023a98587",
   "metadata": {},
   "outputs": [
    {
     "data": {
      "text/plain": [
       "['p', 'w', 's', 'k', 'i', 'l', 'l', 's']"
      ]
     },
     "execution_count": 4,
     "metadata": {},
     "output_type": "execute_result"
    }
   ],
   "source": [
    "str = 'pwskills'\n",
    "list(str)"
   ]
  },
  {
   "cell_type": "markdown",
   "id": "8e8a0dce-82f2-4b31-bd17-8d9c4513dbfc",
   "metadata": {},
   "source": [
    "Q8. Write a python program to check whether a given number is Palindrome or not using a while loop."
   ]
  },
  {
   "cell_type": "code",
   "execution_count": 1,
   "id": "0620b68a-eb48-408c-af69-8d3ac98260f9",
   "metadata": {},
   "outputs": [
    {
     "name": "stdin",
     "output_type": "stream",
     "text": [
      "enter a number: 121\n"
     ]
    },
    {
     "name": "stdout",
     "output_type": "stream",
     "text": [
      "121 is a palindrome.\n"
     ]
    }
   ],
   "source": [
    "def is_palindrome(number):\n",
    "    temp = number\n",
    "    reverse = 0\n",
    "    while temp > 0:\n",
    "        remainder = temp % 10\n",
    "        reverse = (reverse*10)+ remainder\n",
    "        temp = temp // 10\n",
    "        \n",
    "    if number == reverse:\n",
    "        return True\n",
    "    else:\n",
    "        return False\n",
    "num = int(input(\"enter a number:\"))  \n",
    "if is_palindrome(num):\n",
    "    print(num, \"is a palindrome.\")\n",
    "else:\n",
    "    print(num, \"is not a palindrome.\")\n",
    "        "
   ]
  },
  {
   "cell_type": "markdown",
   "id": "5861cc0c-1552-46a5-8d55-51a74a79c147",
   "metadata": {},
   "source": [
    "Q9. Write a code to print odd numbers from 1 to 100 using list comprehension."
   ]
  },
  {
   "cell_type": "code",
   "execution_count": 10,
   "id": "de575ede-0be6-4414-8fc9-b1891496e468",
   "metadata": {},
   "outputs": [
    {
     "name": "stdout",
     "output_type": "stream",
     "text": [
      "[1, 3, 5, 7, 9, 11, 13, 15, 17, 19, 21, 23, 25, 27, 29, 31, 33, 35, 37, 39, 41, 43, 45, 47, 49, 51, 53, 55, 57, 59, 61, 63, 65, 67, 69, 71, 73, 75, 77, 79, 81, 83, 85, 87, 89, 91, 93, 95, 97, 99]\n"
     ]
    }
   ],
   "source": [
    "## list of 1 to 100 using comprehension\n",
    "\n",
    "l = [i for i in range(1, 101)]\n",
    "\n",
    "##list comprehension to filter out odd numbers\n",
    "\n",
    "odd_numbers = [num for num in range(1,101) if num % 2 != 0]\n",
    "print(odd_numbers)"
   ]
  }
 ],
 "metadata": {
  "kernelspec": {
   "display_name": "Python 3 (ipykernel)",
   "language": "python",
   "name": "python3"
  },
  "language_info": {
   "codemirror_mode": {
    "name": "ipython",
    "version": 3
   },
   "file_extension": ".py",
   "mimetype": "text/x-python",
   "name": "python",
   "nbconvert_exporter": "python",
   "pygments_lexer": "ipython3",
   "version": "3.10.8"
  }
 },
 "nbformat": 4,
 "nbformat_minor": 5
}
