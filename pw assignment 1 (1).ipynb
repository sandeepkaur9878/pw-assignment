{
 "cells": [
  {
   "cell_type": "markdown",
   "id": "c565cec3-527f-4402-a86c-1cde535f0100",
   "metadata": {},
   "source": [
    "Q1. Create one variable containing following type of data:\n",
    "(i) string\n",
    "(ii) list\n",
    "(iii) float\n",
    "(iv) tuple"
   ]
  },
  {
   "cell_type": "code",
   "execution_count": 1,
   "id": "432c0be7-bb3f-471a-a1cb-64de448b7765",
   "metadata": {},
   "outputs": [],
   "source": [
    "a = \"hello\"\n",
    "l = [2,3,4, \"sand\", 3+4j, 33.33]\n",
    "f = 35.657\n",
    "t = (20, \"sandeep\", 35.56, [30, 40, 60])"
   ]
  },
  {
   "cell_type": "code",
   "execution_count": 2,
   "id": "14131518-de3a-4bf1-898f-eaf9bb52b41c",
   "metadata": {},
   "outputs": [
    {
     "data": {
      "text/plain": [
       "str"
      ]
     },
     "execution_count": 2,
     "metadata": {},
     "output_type": "execute_result"
    }
   ],
   "source": [
    "type(a)"
   ]
  },
  {
   "cell_type": "code",
   "execution_count": 3,
   "id": "bff1c2f7-8ae6-44a1-be5c-05e3bcee53bc",
   "metadata": {},
   "outputs": [
    {
     "data": {
      "text/plain": [
       "list"
      ]
     },
     "execution_count": 3,
     "metadata": {},
     "output_type": "execute_result"
    }
   ],
   "source": [
    "type(l)"
   ]
  },
  {
   "cell_type": "code",
   "execution_count": 4,
   "id": "74e4d14d-11b4-41d4-87d2-0ac0d4fffea0",
   "metadata": {},
   "outputs": [
    {
     "data": {
      "text/plain": [
       "float"
      ]
     },
     "execution_count": 4,
     "metadata": {},
     "output_type": "execute_result"
    }
   ],
   "source": [
    "type(f)"
   ]
  },
  {
   "cell_type": "code",
   "execution_count": 5,
   "id": "5acd0b13-367a-4a29-8582-fec3bb81f0c3",
   "metadata": {},
   "outputs": [
    {
     "data": {
      "text/plain": [
       "tuple"
      ]
     },
     "execution_count": 5,
     "metadata": {},
     "output_type": "execute_result"
    }
   ],
   "source": [
    "type(t)"
   ]
  },
  {
   "cell_type": "markdown",
   "id": "3d008aa1-a20d-49ad-93f9-c018768ce05f",
   "metadata": {},
   "source": [
    "Q2. Given are some following variables containing data:\n",
    "(i) var1 = ‘ ‘\n",
    "(ii) var2 = ‘[ DS , ML , Python]’\n",
    "(iii) var3 = [ ‘DS’ , ’ML’ , ‘Python’ ]\n",
    "(iv) var4 = 1."
   ]
  },
  {
   "cell_type": "code",
   "execution_count": 6,
   "id": "08065831-74a6-49a0-bbba-7b972580d923",
   "metadata": {},
   "outputs": [],
   "source": [
    "var1 = 'sandeep'\n",
    "var2 = '[DS, ML, Python]'\n",
    "var3 = ['DS', 'ML', 'Python']\n",
    "var4 = l"
   ]
  },
  {
   "cell_type": "code",
   "execution_count": 7,
   "id": "c758fabd-1154-4abf-8f35-f42139f0224e",
   "metadata": {},
   "outputs": [
    {
     "data": {
      "text/plain": [
       "str"
      ]
     },
     "execution_count": 7,
     "metadata": {},
     "output_type": "execute_result"
    }
   ],
   "source": [
    "type(var1)"
   ]
  },
  {
   "cell_type": "code",
   "execution_count": 8,
   "id": "e6396919-009d-4349-8b16-778abb872990",
   "metadata": {},
   "outputs": [
    {
     "data": {
      "text/plain": [
       "str"
      ]
     },
     "execution_count": 8,
     "metadata": {},
     "output_type": "execute_result"
    }
   ],
   "source": [
    "type(var2)"
   ]
  },
  {
   "cell_type": "code",
   "execution_count": 9,
   "id": "e5958161-3ad5-4c3f-99a9-cbb7c9c01842",
   "metadata": {},
   "outputs": [
    {
     "data": {
      "text/plain": [
       "list"
      ]
     },
     "execution_count": 9,
     "metadata": {},
     "output_type": "execute_result"
    }
   ],
   "source": [
    "type(var3)"
   ]
  },
  {
   "cell_type": "code",
   "execution_count": 10,
   "id": "7e3100e7-159b-42da-a5f0-e93b4c8f3dc3",
   "metadata": {},
   "outputs": [
    {
     "data": {
      "text/plain": [
       "list"
      ]
     },
     "execution_count": 10,
     "metadata": {},
     "output_type": "execute_result"
    }
   ],
   "source": [
    "type(var4)"
   ]
  },
  {
   "cell_type": "markdown",
   "id": "8425f780-36c8-4c34-8539-9d57fea0b0ea",
   "metadata": {},
   "source": [
    "Q3. Explain the use of the following operators using an example:\n",
    "(i) /\n",
    "(ii) %\n",
    "(iii) //\n",
    "(iv) **"
   ]
  },
  {
   "cell_type": "code",
   "execution_count": 11,
   "id": "f321ddd5-bae9-4ead-bde3-b87a1fbf9404",
   "metadata": {},
   "outputs": [],
   "source": [
    "a = 4\n",
    "b = 2\n",
    "c = a/b"
   ]
  },
  {
   "cell_type": "code",
   "execution_count": 12,
   "id": "1cc7b0e0-afcd-4db7-a08e-8605a331fe73",
   "metadata": {},
   "outputs": [
    {
     "data": {
      "text/plain": [
       "2.0"
      ]
     },
     "execution_count": 12,
     "metadata": {},
     "output_type": "execute_result"
    }
   ],
   "source": [
    "c"
   ]
  },
  {
   "cell_type": "code",
   "execution_count": 13,
   "id": "c05b81cd-3233-429f-a4c7-a77b3e256c29",
   "metadata": {},
   "outputs": [],
   "source": [
    "d = 4\n",
    "e = 5\n",
    "f = d%e"
   ]
  },
  {
   "cell_type": "code",
   "execution_count": 14,
   "id": "9277e272-1d81-475e-aecc-25aafb148087",
   "metadata": {},
   "outputs": [
    {
     "data": {
      "text/plain": [
       "4"
      ]
     },
     "execution_count": 14,
     "metadata": {},
     "output_type": "execute_result"
    }
   ],
   "source": [
    "f"
   ]
  },
  {
   "cell_type": "code",
   "execution_count": 15,
   "id": "54dd9f4b-ed54-417f-9fc1-ea025ab3ae40",
   "metadata": {},
   "outputs": [],
   "source": [
    "g = 4\n",
    "h = 5\n",
    "i = g//h"
   ]
  },
  {
   "cell_type": "code",
   "execution_count": 17,
   "id": "6d50af97-06ed-4aac-adfe-b149b6c451e2",
   "metadata": {},
   "outputs": [
    {
     "data": {
      "text/plain": [
       "0"
      ]
     },
     "execution_count": 17,
     "metadata": {},
     "output_type": "execute_result"
    }
   ],
   "source": [
    "i"
   ]
  },
  {
   "cell_type": "code",
   "execution_count": 18,
   "id": "3b13cd61-e6df-4852-aa07-28d20e2c32f0",
   "metadata": {},
   "outputs": [],
   "source": [
    "j = 2\n",
    "k = 3\n",
    "l = j**k"
   ]
  },
  {
   "cell_type": "code",
   "execution_count": 19,
   "id": "d7a6627c-c9df-4e4e-ac17-bc5e9f59e4e7",
   "metadata": {},
   "outputs": [
    {
     "data": {
      "text/plain": [
       "8"
      ]
     },
     "execution_count": 19,
     "metadata": {},
     "output_type": "execute_result"
    }
   ],
   "source": [
    "l"
   ]
  },
  {
   "cell_type": "markdown",
   "id": "2d2a8339-8288-4c0c-9719-5cb8c006aaf7",
   "metadata": {},
   "source": [
    "Q4. Create a list of length 10 of your choice containing multiple types of data. Using for loop print the\n",
    "element and its data type."
   ]
  },
  {
   "cell_type": "code",
   "execution_count": 20,
   "id": "3674da8f-7b29-4004-9947-4214b2888807",
   "metadata": {},
   "outputs": [
    {
     "name": "stdout",
     "output_type": "stream",
     "text": [
      "<class 'str'>\n",
      "sandeep\n",
      "<class 'int'>\n",
      "2\n",
      "<class 'float'>\n",
      "89.0\n",
      "<class 'int'>\n",
      "53\n",
      "<class 'int'>\n",
      "67\n",
      "<class 'str'>\n",
      "hello\n",
      "<class 'bool'>\n",
      "True\n",
      "<class 'tuple'>\n",
      "('apple', 'banana', 'cherry')\n"
     ]
    }
   ],
   "source": [
    "list = ['sandeep', 2, 89.0, 53, 67, \"hello\", True, (\"apple\", \"banana\", \"cherry\")]\n",
    "for i in list:\n",
    "    print(type(i))\n",
    "    print(i)"
   ]
  },
  {
   "cell_type": "markdown",
   "id": "55a8775e-1f5d-48d7-a65e-f7c1f4978c4c",
   "metadata": {},
   "source": [
    "Q5. Using a while loop, verify if the number A is purely divisible by number B and if so then how many\n",
    "times it can be divisible."
   ]
  },
  {
   "cell_type": "code",
   "execution_count": 21,
   "id": "744d6381-489b-40ac-9e75-0d697dac5ab8",
   "metadata": {},
   "outputs": [
    {
     "name": "stdout",
     "output_type": "stream",
     "text": [
      "1\n"
     ]
    }
   ],
   "source": [
    "A = 8\n",
    "B = 4\n",
    "count = 0\n",
    "while A % B == 0:\n",
    "    count += 1\n",
    "    A = A / B\n",
    "if count > 0:\n",
    "    print(count)"
   ]
  },
  {
   "cell_type": "markdown",
   "id": "38ff6ce0-ba38-427e-a27c-ea17d045549c",
   "metadata": {},
   "source": [
    "Q6. Create a list containing 25 int type data. Using for loop and if-else condition print if the element is\n",
    "divisible by 3 or not."
   ]
  },
  {
   "cell_type": "code",
   "execution_count": 22,
   "id": "55ddb029-d91b-47cc-80da-d8f7e7904d4c",
   "metadata": {},
   "outputs": [
    {
     "name": "stdout",
     "output_type": "stream",
     "text": [
      "[3, 6, 9, 12, 15, 18, 21, 24]\n"
     ]
    }
   ],
   "source": [
    "list = [1,2,3,4,5,6,7,8,9,10,11,12,13,14,15,16,17,18,19,20,21,22,23,24,25]\n",
    "n = 3\n",
    "a = [i for i in list if i % 3 == 0]\n",
    "print(a)"
   ]
  },
  {
   "cell_type": "markdown",
   "id": "8dc345ee-8f45-41cc-bf0d-d9559660164e",
   "metadata": {},
   "source": [
    "Q7. What do you understand about mutable and immutable data types? Give examples for both showing\n",
    "this property."
   ]
  },
  {
   "cell_type": "code",
   "execution_count": 23,
   "id": "75e09471-fd7c-45d1-8568-c27e91a8fc6a",
   "metadata": {},
   "outputs": [
    {
     "name": "stdout",
     "output_type": "stream",
     "text": [
      "1\n",
      "10\n"
     ]
    }
   ],
   "source": [
    "## mutable means = the value of some objects can change. objects whose value can change said to be mtable;\n",
    "\n",
    "list_value = [1, 2, 3]\n",
    "set_value = (10, 20, 30)\n",
    "print(list_value[0])\n",
    "print(set_value[0])"
   ]
  },
  {
   "cell_type": "code",
   "execution_count": 24,
   "id": "782940fe-f525-4848-b701-d65d3de44936",
   "metadata": {},
   "outputs": [
    {
     "name": "stdout",
     "output_type": "stream",
     "text": [
      "9\n",
      "90.8\n",
      "10.088888888888889\n"
     ]
    }
   ],
   "source": [
    "## immutable means = immutable datatypes are objects that cannot be modified or altered after thay have been created\n",
    "## (for example , by adding new elements, removing elements, or replacing elements)\n",
    "\n",
    "a = 9\n",
    "b = 90.8\n",
    "c = b/a\n",
    "print(a)\n",
    "print(b)\n",
    "print(c)"
   ]
  },
  {
   "cell_type": "code",
   "execution_count": null,
   "id": "03735df2-35a9-40a3-a8f7-ebcdb0ceb1e3",
   "metadata": {},
   "outputs": [],
   "source": []
  }
 ],
 "metadata": {
  "kernelspec": {
   "display_name": "Python 3 (ipykernel)",
   "language": "python",
   "name": "python3"
  },
  "language_info": {
   "codemirror_mode": {
    "name": "ipython",
    "version": 3
   },
   "file_extension": ".py",
   "mimetype": "text/x-python",
   "name": "python",
   "nbconvert_exporter": "python",
   "pygments_lexer": "ipython3",
   "version": "3.10.8"
  }
 },
 "nbformat": 4,
 "nbformat_minor": 5
}
