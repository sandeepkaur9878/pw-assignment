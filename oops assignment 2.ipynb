{
 "cells": [
  {
   "cell_type": "markdown",
   "id": "4dbe8cc0-802a-4d87-a8b1-70bf56cd1800",
   "metadata": {},
   "source": [
    "### Q1. What is Abstraction in OOps? Explain with an example."
   ]
  },
  {
   "cell_type": "code",
   "execution_count": 1,
   "id": "50f261dd-c3f6-4d65-99d6-6a91efeb74d3",
   "metadata": {},
   "outputs": [],
   "source": [
    "# Abstraction is a concept that focuses on hiding the internal details of an object  and exposing only the essentail features or behaviour to the outside world. It allows you to create complex systems by breaking them down into smaller, more manageable components. "
   ]
  },
  {
   "cell_type": "code",
   "execution_count": 2,
   "id": "5b844910-65a2-4fd5-bdb5-8a2ace561af3",
   "metadata": {},
   "outputs": [],
   "source": [
    "import abc\n",
    "class vehicle:\n",
    "    @abc.abstractmethod\n",
    "    def start(self):\n",
    "        pass\n",
    "    \n",
    "    @abc.abstractmethod\n",
    "    def accelerate(self):\n",
    "        pass\n",
    "    \n",
    "    @abc.abstractmethod\n",
    "    def stop(self):\n",
    "        pass"
   ]
  },
  {
   "cell_type": "code",
   "execution_count": 11,
   "id": "3ae7a461-6a34-4a33-9977-cadc6f6ca2a3",
   "metadata": {},
   "outputs": [],
   "source": [
    "class car(vehicle):\n",
    "    def start(self):\n",
    "        return \"my car is started\"\n",
    "    \n",
    "    def accelerate(self):\n",
    "        return \"my car is accelerated\"\n",
    "    \n",
    "    def stop(self):\n",
    "        return \"my car is stopped\"\n",
    "    \n",
    "class motorcycle(vehicle):\n",
    "    def start(self):\n",
    "        return \"my bro's bike is started\"\n",
    "    \n",
    "    def accelerate(self):\n",
    "        return \"my bro's bike is accelerated\"\n",
    "    \n",
    "    def stop(self):\n",
    "        return \"my bro's bike is stopped\""
   ]
  },
  {
   "cell_type": "code",
   "execution_count": 12,
   "id": "4356b3f0-5a91-4c2f-8e64-3a72fc5c3419",
   "metadata": {},
   "outputs": [],
   "source": [
    "car = car()"
   ]
  },
  {
   "cell_type": "code",
   "execution_count": 13,
   "id": "44b45c2f-d333-4f69-86b3-2c55999468c2",
   "metadata": {},
   "outputs": [
    {
     "data": {
      "text/plain": [
       "'my car is accelerated'"
      ]
     },
     "execution_count": 13,
     "metadata": {},
     "output_type": "execute_result"
    }
   ],
   "source": [
    "car.accelerate()"
   ]
  },
  {
   "cell_type": "code",
   "execution_count": 14,
   "id": "1d46330f-96a5-4bbc-a8a3-158e03c72dba",
   "metadata": {},
   "outputs": [
    {
     "data": {
      "text/plain": [
       "'my car is started'"
      ]
     },
     "execution_count": 14,
     "metadata": {},
     "output_type": "execute_result"
    }
   ],
   "source": [
    "car.start()"
   ]
  },
  {
   "cell_type": "code",
   "execution_count": 15,
   "id": "28063fda-0c68-41dd-a57a-b06c7d017408",
   "metadata": {},
   "outputs": [
    {
     "data": {
      "text/plain": [
       "'my car is stopped'"
      ]
     },
     "execution_count": 15,
     "metadata": {},
     "output_type": "execute_result"
    }
   ],
   "source": [
    "car.stop()"
   ]
  },
  {
   "cell_type": "code",
   "execution_count": 16,
   "id": "9fe61a92-4feb-47e5-a2db-61ff420cf503",
   "metadata": {},
   "outputs": [],
   "source": [
    "motorcycle = motorcycle()"
   ]
  },
  {
   "cell_type": "code",
   "execution_count": 17,
   "id": "1d1be41c-43ae-4d8e-b689-e41cd2b9efa1",
   "metadata": {},
   "outputs": [
    {
     "data": {
      "text/plain": [
       "\"my bro's bike is accelerated\""
      ]
     },
     "execution_count": 17,
     "metadata": {},
     "output_type": "execute_result"
    }
   ],
   "source": [
    "motorcycle.accelerate()"
   ]
  },
  {
   "cell_type": "code",
   "execution_count": 18,
   "id": "982a0d7a-3fca-4c14-820c-94f648bc8a33",
   "metadata": {},
   "outputs": [
    {
     "data": {
      "text/plain": [
       "\"my bro's bike is started\""
      ]
     },
     "execution_count": 18,
     "metadata": {},
     "output_type": "execute_result"
    }
   ],
   "source": [
    "motorcycle.start()"
   ]
  },
  {
   "cell_type": "code",
   "execution_count": 19,
   "id": "65b04f3f-da8b-41bb-9a7b-5c40789befef",
   "metadata": {},
   "outputs": [
    {
     "data": {
      "text/plain": [
       "\"my bro's bike is stopped\""
      ]
     },
     "execution_count": 19,
     "metadata": {},
     "output_type": "execute_result"
    }
   ],
   "source": [
    "motorcycle.stop()"
   ]
  },
  {
   "cell_type": "markdown",
   "id": "d73e0963-d32c-4e6f-b96a-7d7bff0bc03c",
   "metadata": {},
   "source": [
    "### Q2. Differentiate between Abstraction and Encapsulation. Explain with an example."
   ]
  },
  {
   "cell_type": "markdown",
   "id": "b548b8d7-0f8f-4316-b9cb-7ec000afa216",
   "metadata": {},
   "source": [
    "### Abstraction :"
   ]
  },
  {
   "cell_type": "code",
   "execution_count": 16,
   "id": "a256cc39-d8a1-436b-8b15-c90c52825201",
   "metadata": {},
   "outputs": [],
   "source": [
    "# Abstraction and encapsulation are two fundamental concepts in object-oriented programming (OOP) that help in designing and organizing software systems. Although they are related and often used together, they have distinct meanings and purposes."
   ]
  },
  {
   "cell_type": "code",
   "execution_count": 17,
   "id": "26f3eb78-81f5-4a22-89dd-ccf5565da258",
   "metadata": {},
   "outputs": [],
   "source": [
    "# Abstraction is a concept that focuses on representing the essential features of an object or system while hiding unnecessary details. It allows us to create models or representations that simplify complex systems, making them easier to understand and work with."
   ]
  },
  {
   "cell_type": "code",
   "execution_count": 18,
   "id": "b088a4bc-8a90-4c29-9734-e3f5dff1d0bd",
   "metadata": {},
   "outputs": [],
   "source": [
    "# In abstraction, we identify the relevant attributes and behaviors of an object and ignore the rest. It emphasizes the \"what\" rather than the \"how\" of an object. Abstraction provides a higher-level view or interface that allows users to interact with the object without needing to know the internal implementation details."
   ]
  },
  {
   "cell_type": "markdown",
   "id": "14ba8423-b154-4c69-acd4-2bc390b3387f",
   "metadata": {},
   "source": [
    "### Example :"
   ]
  },
  {
   "cell_type": "code",
   "execution_count": 19,
   "id": "19e51745-d9d4-4b49-beed-b48b32b86fc5",
   "metadata": {},
   "outputs": [],
   "source": [
    "# For example, consider a Car class. From an abstraction perspective, we may only be concerned with the car's essential features such as its ability to start, stop, accelerate, and change direction. We don't need to know how these operations are implemented internally, such as the specific mechanisms in the engine, transmission, or braking system. The abstraction simplifies the car's behavior and provides a clean interface for users to interact with."
   ]
  },
  {
   "cell_type": "markdown",
   "id": "10167f86-fc10-4b34-985d-2358ecc916a5",
   "metadata": {},
   "source": [
    "### Encapsulation :"
   ]
  },
  {
   "cell_type": "code",
   "execution_count": 20,
   "id": "8cbb876f-5636-491b-8e0f-46ad40e4486a",
   "metadata": {},
   "outputs": [],
   "source": [
    "# Encapsulation, on the other hand, is a mechanism that binds data and the methods (or functions) that operate on that data together as a single unit. It encapsulates the data and methods into a class, allowing access to them only through predefined interfaces."
   ]
  },
  {
   "cell_type": "code",
   "execution_count": 21,
   "id": "cd49869d-19f2-4665-b136-ab1e14750990",
   "metadata": {},
   "outputs": [],
   "source": [
    "# Encapsulation provides data hiding and protects the internal state of an object from being accessed or modified directly by external code. It ensures that the object's internal implementation details are hidden and can only be accessed through well-defined methods or properties."
   ]
  },
  {
   "cell_type": "markdown",
   "id": "749f89f8-3e5d-49ab-b2f1-f15cd7a32736",
   "metadata": {},
   "source": [
    "### Example :"
   ]
  },
  {
   "cell_type": "code",
   "execution_count": 22,
   "id": "2b3b05b3-81db-44a6-9a5f-2eaa444ebd98",
   "metadata": {},
   "outputs": [],
   "source": [
    "# For example, let's say we have a class called BankAccount. The class may have private instance variables like account number, balance, and owner's name. These variables are encapsulated within the class, and external code cannot directly access or modify them. Instead, the class provides public methods like deposit(), withdraw(), and getBalance() to interact with the account. These methods ensure that the account's state is accessed and modified in a controlled manner, maintaining the integrity and security of the data."
   ]
  },
  {
   "cell_type": "code",
   "execution_count": 23,
   "id": "6bb845fe-5e1c-4b92-a42d-2e52d1831da0",
   "metadata": {},
   "outputs": [],
   "source": [
    "# In summary, abstraction focuses on creating simplified models that highlight the essential features of an object or system, while encapsulation provides data hiding and bundles data and methods together to ensure controlled access and manipulation. Both concepts contribute to building modular, maintainable, and robust software systems."
   ]
  },
  {
   "cell_type": "markdown",
   "id": "3f6ed257-ac34-49b1-99ef-9aca5ab02890",
   "metadata": {},
   "source": [
    "### Q3. What is abc module in python? Why is it used?"
   ]
  },
  {
   "cell_type": "code",
   "execution_count": null,
   "id": "c38e8230-b2d5-4b53-ac75-939e012229d6",
   "metadata": {},
   "outputs": [],
   "source": [
    "# The 'abc' module stands for \"Abstract Base Classes\". It provides a framework for defining abstract base classes in python. An abstract base class is a class that cannot be instantiated directly but is meant to serve as a common interface or contract for its subclasses.\n",
    "# Here are a few reasons why the 'abc' module is used :"
   ]
  },
  {
   "cell_type": "markdown",
   "id": "20a0e18a-d1ac-4818-8c52-0f29d5dcee3c",
   "metadata": {},
   "source": [
    "### 1. Defining interfaces :"
   ]
  },
  {
   "cell_type": "code",
   "execution_count": 2,
   "id": "9d05b772-a577-407a-9413-9daf26c6c506",
   "metadata": {},
   "outputs": [],
   "source": [
    "# The 'abc' module allows you to define interfaces or contracts that subclasses must follow. This helps in enforcing a certain structure and behavior across multiple classes."
   ]
  },
  {
   "cell_type": "markdown",
   "id": "78368f5b-0537-475f-9784-ad4594779359",
   "metadata": {},
   "source": [
    "### 2. Polymorphism :"
   ]
  },
  {
   "cell_type": "code",
   "execution_count": 3,
   "id": "ba128e33-f080-4c4b-bc53-612561ef5a01",
   "metadata": {},
   "outputs": [],
   "source": [
    "# Abstract base classes enable polymorphism in python. "
   ]
  },
  {
   "cell_type": "markdown",
   "id": "b89edff7-ced3-46ba-91e4-35308c1af5d8",
   "metadata": {},
   "source": [
    "### 3. Runtime checks :"
   ]
  },
  {
   "cell_type": "code",
   "execution_count": 4,
   "id": "4f72fe33-5276-451a-ab45-ad86758a231b",
   "metadata": {},
   "outputs": [],
   "source": [
    "# The 'abc'module provides mechanisms to perform runtime checks to ensure that the require methods or properties of the abstract base class are implemented in its subclasses. This helps in catching errors early during development."
   ]
  },
  {
   "cell_type": "markdown",
   "id": "2c5eda97-2b39-48f8-b0b4-13ae52ff2247",
   "metadata": {},
   "source": [
    "### 4. Documentation and communication :"
   ]
  },
  {
   "cell_type": "code",
   "execution_count": 5,
   "id": "49389f07-85e8-4a8f-b731-ec5d07a82411",
   "metadata": {},
   "outputs": [],
   "source": [
    "# Abstract base classes act as a form of documentation and communication among developers. By defining clear interfaces, it becomes easier for others to understand how to use and extend your code."
   ]
  },
  {
   "cell_type": "code",
   "execution_count": 8,
   "id": "462fe71c-26b9-44d4-9933-46668b9df7a1",
   "metadata": {},
   "outputs": [],
   "source": [
    "## Example :\n",
    "\n",
    "import abc \n",
    "class Abstractclass(abc.ABC):\n",
    "    @abc.abstractmethod\n",
    "    def my_method(self):\n",
    "        pass\n",
    "class Subclass(Abstractclass):\n",
    "    \n",
    "    def my_method(self):\n",
    "        return \"this is my method\""
   ]
  },
  {
   "cell_type": "code",
   "execution_count": 9,
   "id": "e9ecf8a5-3d15-48d3-924f-8dec3717f718",
   "metadata": {},
   "outputs": [],
   "source": [
    "sub_class = Subclass()"
   ]
  },
  {
   "cell_type": "code",
   "execution_count": 10,
   "id": "867683cb-f0a0-4490-a467-169797b1f345",
   "metadata": {},
   "outputs": [
    {
     "data": {
      "text/plain": [
       "'this is my method'"
      ]
     },
     "execution_count": 10,
     "metadata": {},
     "output_type": "execute_result"
    }
   ],
   "source": [
    "sub_class.my_method()"
   ]
  },
  {
   "cell_type": "markdown",
   "id": "077485f0-03c1-4b59-9c8e-e0c201018d5a",
   "metadata": {},
   "source": [
    "### Q4. How can we achieve data abstraction?"
   ]
  },
  {
   "cell_type": "code",
   "execution_count": 1,
   "id": "a2f8edea-5008-49b7-8dc9-ddba0e98e96e",
   "metadata": {},
   "outputs": [],
   "source": [
    "# Data abstraction is a fundamental concept in computer science and software engineering that involves hiding the implementation details of data structures or objects and providing a simplified and generalized interface for interacting with them. Achieving data abstraction typically involves the following steps:"
   ]
  },
  {
   "cell_type": "markdown",
   "id": "40e4dbc5-da7b-4bda-b790-69a29a572e1c",
   "metadata": {},
   "source": [
    "### 1. Identify the relevant data :"
   ]
  },
  {
   "cell_type": "code",
   "execution_count": 5,
   "id": "b85e1943-1119-4525-9f79-970057443df8",
   "metadata": {},
   "outputs": [],
   "source": [
    "# Determine the data that needs to be abstracted and organized. This could be any kind of information that is relevant to your application or system."
   ]
  },
  {
   "cell_type": "markdown",
   "id": "0a692643-69e9-416d-921b-fb2c64bf3a26",
   "metadata": {},
   "source": [
    "### 2. Define the data structure :"
   ]
  },
  {
   "cell_type": "code",
   "execution_count": 6,
   "id": "fe8d49ba-63cf-4b6d-a642-22448910cbfb",
   "metadata": {},
   "outputs": [],
   "source": [
    "# Create a data structure or object that represents the relevant data. This could be a class, a struct, or any other suitable container that encapsulates the data."
   ]
  },
  {
   "cell_type": "markdown",
   "id": "94ba84a4-ebed-4dbc-8846-71683e4b9f51",
   "metadata": {},
   "source": [
    "### 3. Encapsulate the data :"
   ]
  },
  {
   "cell_type": "code",
   "execution_count": 7,
   "id": "e2aa980b-6e65-495e-a94d-68f4d4272bdb",
   "metadata": {},
   "outputs": [],
   "source": [
    "#  Encapsulation is a key principle of data abstraction. Hide the internal implementation details of the data structure by making the data private or protected. This prevents direct access to the internal data from outside the abstraction."
   ]
  },
  {
   "cell_type": "markdown",
   "id": "da8e6ab3-30ca-4692-be0d-0e4d6f85c731",
   "metadata": {},
   "source": [
    "### 4. Define an interface :"
   ]
  },
  {
   "cell_type": "code",
   "execution_count": 8,
   "id": "24808355-cbc0-4178-a713-711a003deef4",
   "metadata": {},
   "outputs": [],
   "source": [
    "# Design a set of methods or functions that define the operations that can be performed on the data structure. This interface should provide a high-level view of the functionality without exposing the underlying implementation."
   ]
  },
  {
   "cell_type": "markdown",
   "id": "c9e02d36-6aca-411a-8b35-459b42ab9187",
   "metadata": {},
   "source": [
    "### 5. Implement the operations :"
   ]
  },
  {
   "cell_type": "code",
   "execution_count": 9,
   "id": "affa7c0a-bcc2-4a62-983e-adb2de5cd98b",
   "metadata": {},
   "outputs": [],
   "source": [
    "#  Write the code to implement the methods or functions defined in the interface. These operations should manipulate the data structure in a way that is consistent with the abstraction and provide the desired functionality."
   ]
  },
  {
   "cell_type": "markdown",
   "id": "daccf005-6030-42a4-b5f2-9466b53da49b",
   "metadata": {},
   "source": [
    "### 6. Access the data through the interface :"
   ]
  },
  {
   "cell_type": "code",
   "execution_count": 10,
   "id": "55984f67-acef-4617-9cc1-e8cbbd69e82f",
   "metadata": {},
   "outputs": [],
   "source": [
    "#  In order to interact with the data structure, use only the methods or functions defined in the interface. This enforces the abstraction and ensures that the implementation details remain hidden."
   ]
  },
  {
   "cell_type": "code",
   "execution_count": 11,
   "id": "a4572f41-6114-4c5b-a62c-d4230982ebd8",
   "metadata": {},
   "outputs": [],
   "source": [
    "# By following these steps, you can achieve data abstraction by providing a simplified and consistent interface for working with complex data structures or objects. This promotes modularity, reusability, and maintainability in your codebase."
   ]
  },
  {
   "cell_type": "markdown",
   "id": "6c6f3cf5-2612-4157-9ada-fca465c505ab",
   "metadata": {},
   "source": [
    "### Q5. Can we create an instance of an abstract class? Explain your answer."
   ]
  },
  {
   "cell_type": "markdown",
   "id": "e33e577b-9fe3-4ae7-b319-b3f6a81ea79a",
   "metadata": {},
   "source": [
    "### Ans. No, we cannot create an instance of an abstract class."
   ]
  },
  {
   "cell_type": "code",
   "execution_count": 12,
   "id": "05c002ea-4f0a-463b-85d4-ea50914e6c3e",
   "metadata": {},
   "outputs": [],
   "source": [
    "# An abstract class is a class that cannot be instantiated directly. It is designed to be a blueprint for other classes and provides a common interface or set of methods that subclasses must implement. Abstract classes are meant to be extended and serve as a base for more specific classes."
   ]
  },
  {
   "cell_type": "code",
   "execution_count": 13,
   "id": "05ff98e6-08bb-4577-b9c7-f21539343ed7",
   "metadata": {},
   "outputs": [],
   "source": [
    "# The purpose of an abstract class is to define common functionality and behavior that subclasses can inherit and specialize. It may contain abstract methods, which are methods without an implementation, as well as concrete methods with an implementation. Subclasses of an abstract class must provide an implementation for all the abstract methods defined in the abstract class."
   ]
  },
  {
   "cell_type": "code",
   "execution_count": 14,
   "id": "97960fd6-1fe9-4cac-b89b-b4bd4af1ea21",
   "metadata": {},
   "outputs": [],
   "source": [
    "# Because an abstract class is incomplete and contains undefined methods, it cannot be instantiated on its own. Instead, we need to create a concrete subclass that extends the abstract class and provides implementations for all the abstract methods. We can then create instances of the concrete subclass, which will inherit the defined behavior from the abstract class."
   ]
  },
  {
   "cell_type": "code",
   "execution_count": 15,
   "id": "d5a1a041-882a-423f-b8be-2afa1bb3962a",
   "metadata": {},
   "outputs": [],
   "source": [
    "# In summary, abstract classes are incomplete and cannot be instantiated directly. They serve as a template for subclasses to provide implementations for abstract methods. Instances can only be created from concrete subclasses that extend the abstract class and provide the required implementations."
   ]
  },
  {
   "cell_type": "code",
   "execution_count": null,
   "id": "da23e955-6d90-4ef7-bd74-e9194885b9ae",
   "metadata": {},
   "outputs": [],
   "source": []
  }
 ],
 "metadata": {
  "kernelspec": {
   "display_name": "Python 3 (ipykernel)",
   "language": "python",
   "name": "python3"
  },
  "language_info": {
   "codemirror_mode": {
    "name": "ipython",
    "version": 3
   },
   "file_extension": ".py",
   "mimetype": "text/x-python",
   "name": "python",
   "nbconvert_exporter": "python",
   "pygments_lexer": "ipython3",
   "version": "3.10.8"
  }
 },
 "nbformat": 4,
 "nbformat_minor": 5
}
