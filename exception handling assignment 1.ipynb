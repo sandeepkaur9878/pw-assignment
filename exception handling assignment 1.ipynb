{
 "cells": [
  {
   "cell_type": "markdown",
   "id": "5f700bae-1695-4d74-be4c-88249ce294bf",
   "metadata": {},
   "source": [
    "### Q1. What is an Exception in python? Write the difference between Exceptions and syntax errors."
   ]
  },
  {
   "cell_type": "markdown",
   "id": "d19619b9-d818-415b-b8a2-975bc6479c6d",
   "metadata": {},
   "source": [
    "### Exception in python"
   ]
  },
  {
   "cell_type": "code",
   "execution_count": 1,
   "id": "2de031fa-388f-47de-b983-c593df950c9a",
   "metadata": {},
   "outputs": [],
   "source": [
    "# An exception is an event, which occurs during the execution of a program that disrupts the normal flow of the program's instructions. In general, when a Python script encounters a situation that it cannot cope with, it raises an exception. An exception is a Python object that represents an error."
   ]
  },
  {
   "cell_type": "markdown",
   "id": "a55c2731-1fdb-4fbb-bf00-10a23bb31c88",
   "metadata": {},
   "source": [
    "### difference between Exception and syntax errors"
   ]
  },
  {
   "cell_type": "code",
   "execution_count": 2,
   "id": "16c4303b-83fa-414e-958f-c4223d13851d",
   "metadata": {},
   "outputs": [],
   "source": [
    "# Exceptions and syntax errors are both types of errors that can accur in programming, but they differ in their nature and when they accur."
   ]
  },
  {
   "cell_type": "code",
   "execution_count": 3,
   "id": "d0f00af9-934f-4940-a6ea-331db721f799",
   "metadata": {},
   "outputs": [],
   "source": [
    "# Syntax error : A syntax error occurs when the code violates the rules of programming language's syntax. It mean that the code is not written correctly and cannot be interpreted by the complier or interpreter. They occurs when you make mistake in the structure of your code , such as missing parentheses, using an incorrect keyword , or forgetting a semicolon."
   ]
  },
  {
   "cell_type": "code",
   "execution_count": 4,
   "id": "68b570ec-951c-4fef-ab43-85f584369741",
   "metadata": {},
   "outputs": [],
   "source": [
    "# Exception : An exception , is an error or unexpected condition that occurs during the execution of a program.It is a runtime error that interrupts the normal flow of the program. Exceptions can be caused by various factors, such as invalid user input, hardware failures , network issue or logical errors in the code. When an exception occurs, it is typically accompanied by an error message or stack trace that provides information about the cause of the exception and the point in the code where it occurred. Exceptions can be predefined by the programming language or custom defined by the programmer."
   ]
  },
  {
   "cell_type": "markdown",
   "id": "4c5a6e3a-aad2-4c73-9614-eb55ecdc180b",
   "metadata": {},
   "source": [
    "### Q2. What happens when an exception is not handled ? Explain with an example."
   ]
  },
  {
   "cell_type": "code",
   "execution_count": 5,
   "id": "c79075bd-99fc-487f-ba85-135b44e4bccd",
   "metadata": {},
   "outputs": [],
   "source": [
    "# In python , where an exception is not handled, it results in the termination of the program and an error message is displayed. This error message provides information about the exception that occured and the line of code where it occurred. This behaviour is known as an \"unhandled exception.\""
   ]
  },
  {
   "cell_type": "markdown",
   "id": "b1c349b1-26d6-492c-a9c4-558920298f7a",
   "metadata": {},
   "source": [
    "### Example"
   ]
  },
  {
   "cell_type": "code",
   "execution_count": 4,
   "id": "e820c10b-d0db-4cda-a408-c827089be10d",
   "metadata": {},
   "outputs": [],
   "source": [
    "def divide_numbers(a,b):\n",
    "    try :\n",
    "        result = a / b\n",
    "        return result\n",
    "    except ZeroDivisionError:\n",
    "        print(\"Error : not divided by zero\")\n",
    "        "
   ]
  },
  {
   "cell_type": "code",
   "execution_count": 5,
   "id": "df5d531b-d5a7-442c-8310-80875b4a7ed5",
   "metadata": {},
   "outputs": [
    {
     "name": "stdout",
     "output_type": "stream",
     "text": [
      "Error : not divided by zero\n",
      "Result: None\n"
     ]
    }
   ],
   "source": [
    "# Exception not handled\n",
    "\n",
    "result = divide_numbers(10,0)\n",
    "print(\"Result:\" , result)"
   ]
  },
  {
   "cell_type": "markdown",
   "id": "dddacb84-b73e-41c1-9bfa-b95064421f08",
   "metadata": {},
   "source": [
    "### Q3. Which python statements are used to catch aand handled expections? Explain with an example."
   ]
  },
  {
   "cell_type": "code",
   "execution_count": 8,
   "id": "b0461ada-90d0-4dbf-b1a7-fdac2c2fcab1",
   "metadata": {},
   "outputs": [],
   "source": [
    "# We can use the 'try' and 'except' statements to catch and handle exceptions. The 'try' block contains the code that might raise an exception, and the 'except' block specifies the actions to be taken if a specific exception is encountered."
   ]
  },
  {
   "cell_type": "markdown",
   "id": "55c1f141-d609-4f0d-b713-e109a6d533ed",
   "metadata": {},
   "source": [
    "### Example"
   ]
  },
  {
   "cell_type": "code",
   "execution_count": 10,
   "id": "61c559be-2e81-498b-8d51-a08d914a541a",
   "metadata": {},
   "outputs": [
    {
     "name": "stdout",
     "output_type": "stream",
     "text": [
      "this is my zerodivisionerror division by zero\n"
     ]
    }
   ],
   "source": [
    "try :\n",
    "    10/0\n",
    "except ValueError as e :\n",
    "    print(\"this value is incorrect\" , e)\n",
    "except ZeroDivisionError as e:\n",
    "    print(\"this is my zerodivisionerror\" , e)\n",
    "except Exception as e :\n",
    "    print(e)"
   ]
  },
  {
   "cell_type": "markdown",
   "id": "8996fedb-3f72-40b8-b51f-60b2394b87ed",
   "metadata": {},
   "source": [
    "### Q4. Explain with an example : a. try and else    b.finally    c. raise"
   ]
  },
  {
   "cell_type": "markdown",
   "id": "99eb635a-5799-47e3-a10f-6edb27add7c7",
   "metadata": {},
   "source": [
    "### a. try and else"
   ]
  },
  {
   "cell_type": "code",
   "execution_count": 11,
   "id": "c222636d-52f3-45ce-b5a5-4181c0b1c8b9",
   "metadata": {},
   "outputs": [],
   "source": [
    "# In python 'try' and 'else' statements are used o handle exceptions or errors that may occur within a specific block of code. The 'try' blocck contains the code that might raise an exception, and the 'else' block is executed only if no exception occurs within the 'try' block."
   ]
  },
  {
   "cell_type": "code",
   "execution_count": 12,
   "id": "005109c5-14c8-421e-acae-323ec8f0c3b3",
   "metadata": {},
   "outputs": [
    {
     "name": "stdout",
     "output_type": "stream",
     "text": [
      "the result is correct\n"
     ]
    }
   ],
   "source": [
    "try:\n",
    "    10/2\n",
    "except ZeroDivisionError as e :\n",
    "    print(\"divided by zero or not\" , e)\n",
    "else:\n",
    "    print(\"the result is correct\")"
   ]
  },
  {
   "cell_type": "markdown",
   "id": "dafaf195-fb0b-4ab0-8ef6-aa3862c85d57",
   "metadata": {},
   "source": [
    "### finally"
   ]
  },
  {
   "cell_type": "code",
   "execution_count": 13,
   "id": "1eee5bba-bcdf-4b74-bd02-f6ccadff9f54",
   "metadata": {},
   "outputs": [],
   "source": [
    "# 'finally' is typically used to perform cleanup operations or ensure certain actions are taken, such as closing files, releasing resources, or cleaning up data."
   ]
  },
  {
   "cell_type": "code",
   "execution_count": 1,
   "id": "5cb0476f-4b2e-4181-ac41-f9564efd8a14",
   "metadata": {},
   "outputs": [
    {
     "name": "stdout",
     "output_type": "stream",
     "text": [
      "data science is always my first choice\n"
     ]
    }
   ],
   "source": [
    "try :\n",
    "    f = open(\"test.txt\", \"w\")\n",
    "    f.write(\"math is my favourite subject\")\n",
    "finally :\n",
    "    print(\"data science is always my first choice\")"
   ]
  },
  {
   "cell_type": "markdown",
   "id": "7421ab84-dff3-4993-b692-594593aa9d05",
   "metadata": {},
   "source": [
    "### raise"
   ]
  },
  {
   "cell_type": "code",
   "execution_count": 1,
   "id": "b7015289-2c64-47f1-9c99-a5292b21f49a",
   "metadata": {},
   "outputs": [],
   "source": [
    "# It is commonly used to handle exceptional or error conditions that may occur while the program is running. When an exception is raised, it interrupts the normal flow of the program and transferes control to the specialized exception-handling code block, often called an exception handler.The exception handler can then handle the raised exception by performing appropriate actions , such as displaying an error message, logging the error, or taking corrective measures."
   ]
  },
  {
   "cell_type": "code",
   "execution_count": 3,
   "id": "5eaaa4bf-bf15-4353-a77d-3242086211c3",
   "metadata": {},
   "outputs": [
    {
     "name": "stdout",
     "output_type": "stream",
     "text": [
      "Error: cannot divided by zero\n"
     ]
    }
   ],
   "source": [
    "def divide_numbers(a,b):\n",
    "    if b == 0:\n",
    "        raise ValueError(\"cannot divided by zero\")\n",
    "    return a/b\n",
    "try:\n",
    "    result = divide_numbers(10,0)\n",
    "    print(\"the result is:\" , result)\n",
    "except ValueError as e :\n",
    "    print(\"Error:\", e)"
   ]
  },
  {
   "cell_type": "markdown",
   "id": "598f2647-af9d-4f04-a4af-449453be2a3e",
   "metadata": {},
   "source": [
    "### Q5. Whhat are custom exception in python? Why do we need  Custom Exception? Explain with an example."
   ]
  },
  {
   "cell_type": "markdown",
   "id": "f3e62421-cd8e-4b96-a7b3-f13e43468aca",
   "metadata": {},
   "source": [
    "### Custom Exception"
   ]
  },
  {
   "cell_type": "code",
   "execution_count": 6,
   "id": "921d8b2d-3802-4529-a922-954e5391fa7d",
   "metadata": {},
   "outputs": [],
   "source": [
    "# In Python, custom exceptions are user-defined exceptions that allow you to create and raise your own specific exceptions based on your application's requirements. While Python provides a wide range of built-in exceptions, sometimes these may not precisely fit your needs. Custom exceptions enable you to define and handle exceptional situations that are specific to your application or domain."
   ]
  },
  {
   "cell_type": "markdown",
   "id": "23f9be7c-7ea2-4441-a6b7-216b9dd80896",
   "metadata": {},
   "source": [
    "### We need Custom Exception"
   ]
  },
  {
   "cell_type": "code",
   "execution_count": 7,
   "id": "98bb0b17-68e1-4ed3-acfd-e27960c242ec",
   "metadata": {},
   "outputs": [],
   "source": [
    "# There are several reasons why you might need custom exceptions:"
   ]
  },
  {
   "cell_type": "markdown",
   "id": "b30e652b-aa5e-47c0-b990-03b794f661c9",
   "metadata": {},
   "source": [
    "### A.Specific error handling:"
   ]
  },
  {
   "cell_type": "code",
   "execution_count": 8,
   "id": "63134954-56d0-4487-ace3-81f43eb9a385",
   "metadata": {},
   "outputs": [],
   "source": [
    "# : Custom exceptions allow you to differentiate between different types of errors and handle them differently. By defining custom exceptions, you can catch and handle specific exceptional situations in a more meaningful way."
   ]
  },
  {
   "cell_type": "markdown",
   "id": "95636ff1-8fb7-4bc0-b43b-60e9d3f992c0",
   "metadata": {},
   "source": [
    "### B. Code organization and readability :"
   ]
  },
  {
   "cell_type": "code",
   "execution_count": 9,
   "id": "0d7a6eb3-88de-46e6-90c2-ae1177576a72",
   "metadata": {},
   "outputs": [],
   "source": [
    "# : Custom exceptions help in organizing and documenting your code. By creating custom exceptions, you can provide clear and self-explanatory names for specific exceptional cases, making your code more readable and maintainable."
   ]
  },
  {
   "cell_type": "markdown",
   "id": "b4eba0bf-1ac9-4fc6-ae48-64d079b4adf3",
   "metadata": {},
   "source": [
    "### C. Domain-specific error handling"
   ]
  },
  {
   "cell_type": "code",
   "execution_count": 10,
   "id": "728f4da2-1c8a-4a49-a1fc-d84049a6167f",
   "metadata": {},
   "outputs": [],
   "source": [
    "# Custom exceptions are particularly useful in domain-specific applications where certain exceptional scenarios are unique to that domain. By defining custom exceptions, you can accurately represent and handle these domain-specific errors."
   ]
  },
  {
   "cell_type": "markdown",
   "id": "67fab120-369f-4e90-8fa2-e085b9ad8070",
   "metadata": {},
   "source": [
    "### Example :"
   ]
  },
  {
   "cell_type": "code",
   "execution_count": 12,
   "id": "1b85ff9e-6ced-47e9-bf5b-b36c395a06f0",
   "metadata": {},
   "outputs": [],
   "source": [
    "class school_marks(Exception):\n",
    "    def __init__(self, msg):\n",
    "        self.msg = msg\n",
    "        \n",
    "def marks_of_school(marks):\n",
    "    if marks < 33 :\n",
    "        raise school_marks(\"the student marks is very low\")\n",
    "    elif marks > 999 :\n",
    "        raise school_marks(\"the student marks is very very high\")\n",
    "    else:\n",
    "        print(\"student marks is good\")\n",
    "       \n",
    "    "
   ]
  },
  {
   "cell_type": "code",
   "execution_count": 14,
   "id": "20b6b73a-b0c9-4d36-be01-bc9ba64ae5e5",
   "metadata": {},
   "outputs": [
    {
     "name": "stdin",
     "output_type": "stream",
     "text": [
      "enter the marks 789\n"
     ]
    }
   ],
   "source": [
    "try :\n",
    "    marks = int(input(\"enter the marks\"))\n",
    "    marks_of_school\n",
    "    (marks)\n",
    "except school_marks as e :\n",
    "    print(e)"
   ]
  },
  {
   "cell_type": "markdown",
   "id": "49a653e3-c61c-4d67-9f99-d02fc4af43a6",
   "metadata": {},
   "source": [
    "### Q6. Create a custom exception class. Use this class to handle an Exception."
   ]
  },
  {
   "cell_type": "code",
   "execution_count": 17,
   "id": "18818db1-5f94-42c6-8a69-0fdb61c5192e",
   "metadata": {},
   "outputs": [
    {
     "name": "stdout",
     "output_type": "stream",
     "text": [
      "custom exception occurred: this is my first custom Exception\n"
     ]
    }
   ],
   "source": [
    "class CustomException(Exception):\n",
    "    def __init__(self, msg):\n",
    "        self.msg = msg\n",
    "        \n",
    "# raise the custom exception\n",
    "try :\n",
    "    raise CustomException(\"this is my first custom Exception\")\n",
    "except CustomException as e:\n",
    "\n",
    "# handle the custom exception\n",
    "\n",
    "    print (\"custom exception occurred:\" , e)"
   ]
  },
  {
   "cell_type": "code",
   "execution_count": null,
   "id": "728884a4-0cfc-4c50-bc05-1dc11c3b2c71",
   "metadata": {},
   "outputs": [],
   "source": []
  }
 ],
 "metadata": {
  "kernelspec": {
   "display_name": "Python 3 (ipykernel)",
   "language": "python",
   "name": "python3"
  },
  "language_info": {
   "codemirror_mode": {
    "name": "ipython",
    "version": 3
   },
   "file_extension": ".py",
   "mimetype": "text/x-python",
   "name": "python",
   "nbconvert_exporter": "python",
   "pygments_lexer": "ipython3",
   "version": "3.10.8"
  }
 },
 "nbformat": 4,
 "nbformat_minor": 5
}
